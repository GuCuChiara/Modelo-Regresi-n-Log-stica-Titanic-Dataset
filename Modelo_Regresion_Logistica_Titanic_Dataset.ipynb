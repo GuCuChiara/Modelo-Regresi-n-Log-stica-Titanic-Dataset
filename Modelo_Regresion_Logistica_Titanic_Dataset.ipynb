{
  "nbformat": 4,
  "nbformat_minor": 0,
  "metadata": {
    "colab": {
      "provenance": [],
      "authorship_tag": "ABX9TyPAvoneATFsN3BgBxbaREnJ",
      "include_colab_link": true
    },
    "kernelspec": {
      "name": "python3",
      "display_name": "Python 3"
    },
    "language_info": {
      "name": "python"
    }
  },
  "cells": [
    {
      "cell_type": "markdown",
      "metadata": {
        "id": "view-in-github",
        "colab_type": "text"
      },
      "source": [
        "<a href=\"https://colab.research.google.com/github/GuCuChiara/Modelo-Regresion-Logistica-Titanic-Dataset/blob/main/Modelo_Regresion_Logistica_Titanic_Dataset.ipynb\" target=\"_parent\"><img src=\"https://colab.research.google.com/assets/colab-badge.svg\" alt=\"Open In Colab\"/></a>"
      ]
    },
    {
      "cell_type": "markdown",
      "source": [
        "# Regresión logística utilizando el dataset Titanic y Scikit-learn (sklearn)"
      ],
      "metadata": {
        "id": "SMEWNYd8BrXf"
      }
    },
    {
      "cell_type": "code",
      "execution_count": null,
      "metadata": {
        "colab": {
          "base_uri": "https://localhost:8080/"
        },
        "id": "Jjd8IDL9OMY4",
        "outputId": "3dcac8b9-a1f0-480f-da72-5cc4b53f806d"
      },
      "outputs": [
        {
          "output_type": "stream",
          "name": "stdout",
          "text": [
            "Mounted at /content/gdrive/\n"
          ]
        }
      ],
      "source": [
        "#montamos nuestra unidad de google drive\n",
        "from google.colab import drive\n",
        "drive.mount('/content/gdrive/',force_remount=True)"
      ]
    },
    {
      "cell_type": "code",
      "source": [
        "import pandas as pd\n",
        "df = pd.read_csv('/content/gdrive/MyDrive/Colab Notebooks/Data Science/data/titanic_train_del_NAN.csv')\n",
        "# dataset para descargar: https://drive.google.com/file/d/1m3ycg_6Sdy2hxUbQRM5Ka0KTJEHVdP3q/view?usp=drive_link"
      ],
      "metadata": {
        "id": "GSaVsyoZK-ae"
      },
      "execution_count": null,
      "outputs": []
    },
    {
      "cell_type": "code",
      "source": [
        "df.head()"
      ],
      "metadata": {
        "colab": {
          "base_uri": "https://localhost:8080/",
          "height": 206
        },
        "id": "34_T2CRaBisn",
        "outputId": "a419a9f1-ffb8-4798-88ab-a4c3788c711f"
      },
      "execution_count": null,
      "outputs": [
        {
          "output_type": "execute_result",
          "data": {
            "text/plain": [
              "   PassengerId  Survived  Pclass  \\\n",
              "0            1         0       3   \n",
              "1            2         1       1   \n",
              "2            3         1       3   \n",
              "3            4         1       1   \n",
              "4            5         0       3   \n",
              "\n",
              "                                                Name     Sex   Age  SibSp  \\\n",
              "0                            Braund, Mr. Owen Harris    male  22.0      1   \n",
              "1  Cumings, Mrs. John Bradley (Florence Briggs Th...  female  38.0      1   \n",
              "2                             Heikkinen, Miss. Laina  female  26.0      0   \n",
              "3       Futrelle, Mrs. Jacques Heath (Lily May Peel)  female  35.0      1   \n",
              "4                           Allen, Mr. William Henry    male  35.0      0   \n",
              "\n",
              "   Parch            Ticket     Fare Cabin Embarked  \n",
              "0      0         A/5 21171   7.2500   NaN        S  \n",
              "1      0          PC 17599  71.2833   C85        C  \n",
              "2      0  STON/O2. 3101282   7.9250   NaN        S  \n",
              "3      0            113803  53.1000  C123        S  \n",
              "4      0            373450   8.0500   NaN        S  "
            ],
            "text/html": [
              "\n",
              "  <div id=\"df-c54cee34-a26f-4cba-8000-9339296f5e6e\" class=\"colab-df-container\">\n",
              "    <div>\n",
              "<style scoped>\n",
              "    .dataframe tbody tr th:only-of-type {\n",
              "        vertical-align: middle;\n",
              "    }\n",
              "\n",
              "    .dataframe tbody tr th {\n",
              "        vertical-align: top;\n",
              "    }\n",
              "\n",
              "    .dataframe thead th {\n",
              "        text-align: right;\n",
              "    }\n",
              "</style>\n",
              "<table border=\"1\" class=\"dataframe\">\n",
              "  <thead>\n",
              "    <tr style=\"text-align: right;\">\n",
              "      <th></th>\n",
              "      <th>PassengerId</th>\n",
              "      <th>Survived</th>\n",
              "      <th>Pclass</th>\n",
              "      <th>Name</th>\n",
              "      <th>Sex</th>\n",
              "      <th>Age</th>\n",
              "      <th>SibSp</th>\n",
              "      <th>Parch</th>\n",
              "      <th>Ticket</th>\n",
              "      <th>Fare</th>\n",
              "      <th>Cabin</th>\n",
              "      <th>Embarked</th>\n",
              "    </tr>\n",
              "  </thead>\n",
              "  <tbody>\n",
              "    <tr>\n",
              "      <th>0</th>\n",
              "      <td>1</td>\n",
              "      <td>0</td>\n",
              "      <td>3</td>\n",
              "      <td>Braund, Mr. Owen Harris</td>\n",
              "      <td>male</td>\n",
              "      <td>22.0</td>\n",
              "      <td>1</td>\n",
              "      <td>0</td>\n",
              "      <td>A/5 21171</td>\n",
              "      <td>7.2500</td>\n",
              "      <td>NaN</td>\n",
              "      <td>S</td>\n",
              "    </tr>\n",
              "    <tr>\n",
              "      <th>1</th>\n",
              "      <td>2</td>\n",
              "      <td>1</td>\n",
              "      <td>1</td>\n",
              "      <td>Cumings, Mrs. John Bradley (Florence Briggs Th...</td>\n",
              "      <td>female</td>\n",
              "      <td>38.0</td>\n",
              "      <td>1</td>\n",
              "      <td>0</td>\n",
              "      <td>PC 17599</td>\n",
              "      <td>71.2833</td>\n",
              "      <td>C85</td>\n",
              "      <td>C</td>\n",
              "    </tr>\n",
              "    <tr>\n",
              "      <th>2</th>\n",
              "      <td>3</td>\n",
              "      <td>1</td>\n",
              "      <td>3</td>\n",
              "      <td>Heikkinen, Miss. Laina</td>\n",
              "      <td>female</td>\n",
              "      <td>26.0</td>\n",
              "      <td>0</td>\n",
              "      <td>0</td>\n",
              "      <td>STON/O2. 3101282</td>\n",
              "      <td>7.9250</td>\n",
              "      <td>NaN</td>\n",
              "      <td>S</td>\n",
              "    </tr>\n",
              "    <tr>\n",
              "      <th>3</th>\n",
              "      <td>4</td>\n",
              "      <td>1</td>\n",
              "      <td>1</td>\n",
              "      <td>Futrelle, Mrs. Jacques Heath (Lily May Peel)</td>\n",
              "      <td>female</td>\n",
              "      <td>35.0</td>\n",
              "      <td>1</td>\n",
              "      <td>0</td>\n",
              "      <td>113803</td>\n",
              "      <td>53.1000</td>\n",
              "      <td>C123</td>\n",
              "      <td>S</td>\n",
              "    </tr>\n",
              "    <tr>\n",
              "      <th>4</th>\n",
              "      <td>5</td>\n",
              "      <td>0</td>\n",
              "      <td>3</td>\n",
              "      <td>Allen, Mr. William Henry</td>\n",
              "      <td>male</td>\n",
              "      <td>35.0</td>\n",
              "      <td>0</td>\n",
              "      <td>0</td>\n",
              "      <td>373450</td>\n",
              "      <td>8.0500</td>\n",
              "      <td>NaN</td>\n",
              "      <td>S</td>\n",
              "    </tr>\n",
              "  </tbody>\n",
              "</table>\n",
              "</div>\n",
              "    <div class=\"colab-df-buttons\">\n",
              "\n",
              "  <div class=\"colab-df-container\">\n",
              "    <button class=\"colab-df-convert\" onclick=\"convertToInteractive('df-c54cee34-a26f-4cba-8000-9339296f5e6e')\"\n",
              "            title=\"Convert this dataframe to an interactive table.\"\n",
              "            style=\"display:none;\">\n",
              "\n",
              "  <svg xmlns=\"http://www.w3.org/2000/svg\" height=\"24px\" viewBox=\"0 -960 960 960\">\n",
              "    <path d=\"M120-120v-720h720v720H120Zm60-500h600v-160H180v160Zm220 220h160v-160H400v160Zm0 220h160v-160H400v160ZM180-400h160v-160H180v160Zm440 0h160v-160H620v160ZM180-180h160v-160H180v160Zm440 0h160v-160H620v160Z\"/>\n",
              "  </svg>\n",
              "    </button>\n",
              "\n",
              "  <style>\n",
              "    .colab-df-container {\n",
              "      display:flex;\n",
              "      gap: 12px;\n",
              "    }\n",
              "\n",
              "    .colab-df-convert {\n",
              "      background-color: #E8F0FE;\n",
              "      border: none;\n",
              "      border-radius: 50%;\n",
              "      cursor: pointer;\n",
              "      display: none;\n",
              "      fill: #1967D2;\n",
              "      height: 32px;\n",
              "      padding: 0 0 0 0;\n",
              "      width: 32px;\n",
              "    }\n",
              "\n",
              "    .colab-df-convert:hover {\n",
              "      background-color: #E2EBFA;\n",
              "      box-shadow: 0px 1px 2px rgba(60, 64, 67, 0.3), 0px 1px 3px 1px rgba(60, 64, 67, 0.15);\n",
              "      fill: #174EA6;\n",
              "    }\n",
              "\n",
              "    .colab-df-buttons div {\n",
              "      margin-bottom: 4px;\n",
              "    }\n",
              "\n",
              "    [theme=dark] .colab-df-convert {\n",
              "      background-color: #3B4455;\n",
              "      fill: #D2E3FC;\n",
              "    }\n",
              "\n",
              "    [theme=dark] .colab-df-convert:hover {\n",
              "      background-color: #434B5C;\n",
              "      box-shadow: 0px 1px 3px 1px rgba(0, 0, 0, 0.15);\n",
              "      filter: drop-shadow(0px 1px 2px rgba(0, 0, 0, 0.3));\n",
              "      fill: #FFFFFF;\n",
              "    }\n",
              "  </style>\n",
              "\n",
              "    <script>\n",
              "      const buttonEl =\n",
              "        document.querySelector('#df-c54cee34-a26f-4cba-8000-9339296f5e6e button.colab-df-convert');\n",
              "      buttonEl.style.display =\n",
              "        google.colab.kernel.accessAllowed ? 'block' : 'none';\n",
              "\n",
              "      async function convertToInteractive(key) {\n",
              "        const element = document.querySelector('#df-c54cee34-a26f-4cba-8000-9339296f5e6e');\n",
              "        const dataTable =\n",
              "          await google.colab.kernel.invokeFunction('convertToInteractive',\n",
              "                                                    [key], {});\n",
              "        if (!dataTable) return;\n",
              "\n",
              "        const docLinkHtml = 'Like what you see? Visit the ' +\n",
              "          '<a target=\"_blank\" href=https://colab.research.google.com/notebooks/data_table.ipynb>data table notebook</a>'\n",
              "          + ' to learn more about interactive tables.';\n",
              "        element.innerHTML = '';\n",
              "        dataTable['output_type'] = 'display_data';\n",
              "        await google.colab.output.renderOutput(dataTable, element);\n",
              "        const docLink = document.createElement('div');\n",
              "        docLink.innerHTML = docLinkHtml;\n",
              "        element.appendChild(docLink);\n",
              "      }\n",
              "    </script>\n",
              "  </div>\n",
              "\n",
              "\n",
              "<div id=\"df-2ab26ad5-dc8b-42dd-8d89-c222b844577e\">\n",
              "  <button class=\"colab-df-quickchart\" onclick=\"quickchart('df-2ab26ad5-dc8b-42dd-8d89-c222b844577e')\"\n",
              "            title=\"Suggest charts\"\n",
              "            style=\"display:none;\">\n",
              "\n",
              "<svg xmlns=\"http://www.w3.org/2000/svg\" height=\"24px\"viewBox=\"0 0 24 24\"\n",
              "     width=\"24px\">\n",
              "    <g>\n",
              "        <path d=\"M19 3H5c-1.1 0-2 .9-2 2v14c0 1.1.9 2 2 2h14c1.1 0 2-.9 2-2V5c0-1.1-.9-2-2-2zM9 17H7v-7h2v7zm4 0h-2V7h2v10zm4 0h-2v-4h2v4z\"/>\n",
              "    </g>\n",
              "</svg>\n",
              "  </button>\n",
              "\n",
              "<style>\n",
              "  .colab-df-quickchart {\n",
              "      --bg-color: #E8F0FE;\n",
              "      --fill-color: #1967D2;\n",
              "      --hover-bg-color: #E2EBFA;\n",
              "      --hover-fill-color: #174EA6;\n",
              "      --disabled-fill-color: #AAA;\n",
              "      --disabled-bg-color: #DDD;\n",
              "  }\n",
              "\n",
              "  [theme=dark] .colab-df-quickchart {\n",
              "      --bg-color: #3B4455;\n",
              "      --fill-color: #D2E3FC;\n",
              "      --hover-bg-color: #434B5C;\n",
              "      --hover-fill-color: #FFFFFF;\n",
              "      --disabled-bg-color: #3B4455;\n",
              "      --disabled-fill-color: #666;\n",
              "  }\n",
              "\n",
              "  .colab-df-quickchart {\n",
              "    background-color: var(--bg-color);\n",
              "    border: none;\n",
              "    border-radius: 50%;\n",
              "    cursor: pointer;\n",
              "    display: none;\n",
              "    fill: var(--fill-color);\n",
              "    height: 32px;\n",
              "    padding: 0;\n",
              "    width: 32px;\n",
              "  }\n",
              "\n",
              "  .colab-df-quickchart:hover {\n",
              "    background-color: var(--hover-bg-color);\n",
              "    box-shadow: 0 1px 2px rgba(60, 64, 67, 0.3), 0 1px 3px 1px rgba(60, 64, 67, 0.15);\n",
              "    fill: var(--button-hover-fill-color);\n",
              "  }\n",
              "\n",
              "  .colab-df-quickchart-complete:disabled,\n",
              "  .colab-df-quickchart-complete:disabled:hover {\n",
              "    background-color: var(--disabled-bg-color);\n",
              "    fill: var(--disabled-fill-color);\n",
              "    box-shadow: none;\n",
              "  }\n",
              "\n",
              "  .colab-df-spinner {\n",
              "    border: 2px solid var(--fill-color);\n",
              "    border-color: transparent;\n",
              "    border-bottom-color: var(--fill-color);\n",
              "    animation:\n",
              "      spin 1s steps(1) infinite;\n",
              "  }\n",
              "\n",
              "  @keyframes spin {\n",
              "    0% {\n",
              "      border-color: transparent;\n",
              "      border-bottom-color: var(--fill-color);\n",
              "      border-left-color: var(--fill-color);\n",
              "    }\n",
              "    20% {\n",
              "      border-color: transparent;\n",
              "      border-left-color: var(--fill-color);\n",
              "      border-top-color: var(--fill-color);\n",
              "    }\n",
              "    30% {\n",
              "      border-color: transparent;\n",
              "      border-left-color: var(--fill-color);\n",
              "      border-top-color: var(--fill-color);\n",
              "      border-right-color: var(--fill-color);\n",
              "    }\n",
              "    40% {\n",
              "      border-color: transparent;\n",
              "      border-right-color: var(--fill-color);\n",
              "      border-top-color: var(--fill-color);\n",
              "    }\n",
              "    60% {\n",
              "      border-color: transparent;\n",
              "      border-right-color: var(--fill-color);\n",
              "    }\n",
              "    80% {\n",
              "      border-color: transparent;\n",
              "      border-right-color: var(--fill-color);\n",
              "      border-bottom-color: var(--fill-color);\n",
              "    }\n",
              "    90% {\n",
              "      border-color: transparent;\n",
              "      border-bottom-color: var(--fill-color);\n",
              "    }\n",
              "  }\n",
              "</style>\n",
              "\n",
              "  <script>\n",
              "    async function quickchart(key) {\n",
              "      const quickchartButtonEl =\n",
              "        document.querySelector('#' + key + ' button');\n",
              "      quickchartButtonEl.disabled = true;  // To prevent multiple clicks.\n",
              "      quickchartButtonEl.classList.add('colab-df-spinner');\n",
              "      try {\n",
              "        const charts = await google.colab.kernel.invokeFunction(\n",
              "            'suggestCharts', [key], {});\n",
              "      } catch (error) {\n",
              "        console.error('Error during call to suggestCharts:', error);\n",
              "      }\n",
              "      quickchartButtonEl.classList.remove('colab-df-spinner');\n",
              "      quickchartButtonEl.classList.add('colab-df-quickchart-complete');\n",
              "    }\n",
              "    (() => {\n",
              "      let quickchartButtonEl =\n",
              "        document.querySelector('#df-2ab26ad5-dc8b-42dd-8d89-c222b844577e button');\n",
              "      quickchartButtonEl.style.display =\n",
              "        google.colab.kernel.accessAllowed ? 'block' : 'none';\n",
              "    })();\n",
              "  </script>\n",
              "</div>\n",
              "\n",
              "    </div>\n",
              "  </div>\n"
            ],
            "application/vnd.google.colaboratory.intrinsic+json": {
              "type": "dataframe",
              "variable_name": "df",
              "summary": "{\n  \"name\": \"df\",\n  \"rows\": 714,\n  \"fields\": [\n    {\n      \"column\": \"PassengerId\",\n      \"properties\": {\n        \"dtype\": \"number\",\n        \"std\": 259,\n        \"min\": 1,\n        \"max\": 891,\n        \"num_unique_values\": 714,\n        \"samples\": [\n          150,\n          408,\n          54\n        ],\n        \"semantic_type\": \"\",\n        \"description\": \"\"\n      }\n    },\n    {\n      \"column\": \"Survived\",\n      \"properties\": {\n        \"dtype\": \"number\",\n        \"std\": 0,\n        \"min\": 0,\n        \"max\": 1,\n        \"num_unique_values\": 2,\n        \"samples\": [\n          1,\n          0\n        ],\n        \"semantic_type\": \"\",\n        \"description\": \"\"\n      }\n    },\n    {\n      \"column\": \"Pclass\",\n      \"properties\": {\n        \"dtype\": \"number\",\n        \"std\": 0,\n        \"min\": 1,\n        \"max\": 3,\n        \"num_unique_values\": 3,\n        \"samples\": [\n          3,\n          1\n        ],\n        \"semantic_type\": \"\",\n        \"description\": \"\"\n      }\n    },\n    {\n      \"column\": \"Name\",\n      \"properties\": {\n        \"dtype\": \"string\",\n        \"num_unique_values\": 714,\n        \"samples\": [\n          \"Byles, Rev. Thomas Roussel Davids\",\n          \"Richards, Master. William Rowe\"\n        ],\n        \"semantic_type\": \"\",\n        \"description\": \"\"\n      }\n    },\n    {\n      \"column\": \"Sex\",\n      \"properties\": {\n        \"dtype\": \"category\",\n        \"num_unique_values\": 2,\n        \"samples\": [\n          \"female\",\n          \"male\"\n        ],\n        \"semantic_type\": \"\",\n        \"description\": \"\"\n      }\n    },\n    {\n      \"column\": \"Age\",\n      \"properties\": {\n        \"dtype\": \"number\",\n        \"std\": 14.526497332334042,\n        \"min\": 0.42,\n        \"max\": 80.0,\n        \"num_unique_values\": 88,\n        \"samples\": [\n          0.75,\n          22.0\n        ],\n        \"semantic_type\": \"\",\n        \"description\": \"\"\n      }\n    },\n    {\n      \"column\": \"SibSp\",\n      \"properties\": {\n        \"dtype\": \"number\",\n        \"std\": 0,\n        \"min\": 0,\n        \"max\": 5,\n        \"num_unique_values\": 6,\n        \"samples\": [\n          1,\n          0\n        ],\n        \"semantic_type\": \"\",\n        \"description\": \"\"\n      }\n    },\n    {\n      \"column\": \"Parch\",\n      \"properties\": {\n        \"dtype\": \"number\",\n        \"std\": 0,\n        \"min\": 0,\n        \"max\": 6,\n        \"num_unique_values\": 7,\n        \"samples\": [\n          0,\n          1\n        ],\n        \"semantic_type\": \"\",\n        \"description\": \"\"\n      }\n    },\n    {\n      \"column\": \"Ticket\",\n      \"properties\": {\n        \"dtype\": \"string\",\n        \"num_unique_values\": 542,\n        \"samples\": [\n          \"17421\",\n          \"231919\"\n        ],\n        \"semantic_type\": \"\",\n        \"description\": \"\"\n      }\n    },\n    {\n      \"column\": \"Fare\",\n      \"properties\": {\n        \"dtype\": \"number\",\n        \"std\": 52.91892950254356,\n        \"min\": 0.0,\n        \"max\": 512.3292,\n        \"num_unique_values\": 220,\n        \"samples\": [\n          14.0,\n          15.7417\n        ],\n        \"semantic_type\": \"\",\n        \"description\": \"\"\n      }\n    },\n    {\n      \"column\": \"Cabin\",\n      \"properties\": {\n        \"dtype\": \"category\",\n        \"num_unique_values\": 134,\n        \"samples\": [\n          \"E49\",\n          \"E10\"\n        ],\n        \"semantic_type\": \"\",\n        \"description\": \"\"\n      }\n    },\n    {\n      \"column\": \"Embarked\",\n      \"properties\": {\n        \"dtype\": \"category\",\n        \"num_unique_values\": 3,\n        \"samples\": [\n          \"S\",\n          \"C\"\n        ],\n        \"semantic_type\": \"\",\n        \"description\": \"\"\n      }\n    }\n  ]\n}"
            }
          },
          "metadata": {},
          "execution_count": 5
        }
      ]
    },
    {
      "cell_type": "markdown",
      "source": [
        "* La columna **Survived** es lo que estamos tratando de predecir.\n",
        "\n",
        "* A esta la llamamos **target** o **variable objetivo**.\n",
        "\n",
        "* Podemos ver que es una lista de 1 y 0.\n",
        "\n",
        "* Un 1 significa que el pasajero sobrevivió y un 0 significa que el pasajero no sobrevivió.\n",
        "\n",
        "* Las columnas restantes son la información sobre los pasajeros que podemos usar para predecir el objetivo, constituyen las variables dependientes.\n",
        "\n",
        "* A cada una de estas columnas la llamamos **features**.\n",
        "\n",
        "* Los **features** son los datos que utilizamos para hacer nuestra predicción.\n",
        "\n",
        "* Si bien sabemos si cada pasajero en el conjunto de datos sobrevivió, nos gustaría poder hacer predicciones sobre pasajeros adicionales para los cuales no pudimos recopilar esos datos.\n",
        "\n",
        "* Construiremos un modelo de aprendizaje automático para ayudarnos a hacer esto.\n",
        "\n",
        "* Las **features** son conocidas también como **predictores**."
      ],
      "metadata": {
        "id": "KnpDvCmyCLKZ"
      }
    },
    {
      "cell_type": "code",
      "source": [
        "# Primero, necesitamos hacer que todas nuestras columnas sean numéricas.\n",
        "# Creamos una columna boolean para la variable Sexo (Sex).\n",
        "df['male'] = df['Sex'] == 'male'\n",
        "df.head()"
      ],
      "metadata": {
        "colab": {
          "base_uri": "https://localhost:8080/",
          "height": 206
        },
        "id": "ls7zYVB5LSzL",
        "outputId": "d78d62b3-1375-4969-a22b-c7ffde9cbe02"
      },
      "execution_count": null,
      "outputs": [
        {
          "output_type": "execute_result",
          "data": {
            "text/plain": [
              "   PassengerId  Survived  Pclass  \\\n",
              "0            1         0       3   \n",
              "1            2         1       1   \n",
              "2            3         1       3   \n",
              "3            4         1       1   \n",
              "4            5         0       3   \n",
              "\n",
              "                                                Name     Sex   Age  SibSp  \\\n",
              "0                            Braund, Mr. Owen Harris    male  22.0      1   \n",
              "1  Cumings, Mrs. John Bradley (Florence Briggs Th...  female  38.0      1   \n",
              "2                             Heikkinen, Miss. Laina  female  26.0      0   \n",
              "3       Futrelle, Mrs. Jacques Heath (Lily May Peel)  female  35.0      1   \n",
              "4                           Allen, Mr. William Henry    male  35.0      0   \n",
              "\n",
              "   Parch            Ticket     Fare Cabin Embarked   male  \n",
              "0      0         A/5 21171   7.2500   NaN        S   True  \n",
              "1      0          PC 17599  71.2833   C85        C  False  \n",
              "2      0  STON/O2. 3101282   7.9250   NaN        S  False  \n",
              "3      0            113803  53.1000  C123        S  False  \n",
              "4      0            373450   8.0500   NaN        S   True  "
            ],
            "text/html": [
              "\n",
              "  <div id=\"df-8c5bd454-b885-4bc5-87a4-a341bfc20c02\" class=\"colab-df-container\">\n",
              "    <div>\n",
              "<style scoped>\n",
              "    .dataframe tbody tr th:only-of-type {\n",
              "        vertical-align: middle;\n",
              "    }\n",
              "\n",
              "    .dataframe tbody tr th {\n",
              "        vertical-align: top;\n",
              "    }\n",
              "\n",
              "    .dataframe thead th {\n",
              "        text-align: right;\n",
              "    }\n",
              "</style>\n",
              "<table border=\"1\" class=\"dataframe\">\n",
              "  <thead>\n",
              "    <tr style=\"text-align: right;\">\n",
              "      <th></th>\n",
              "      <th>PassengerId</th>\n",
              "      <th>Survived</th>\n",
              "      <th>Pclass</th>\n",
              "      <th>Name</th>\n",
              "      <th>Sex</th>\n",
              "      <th>Age</th>\n",
              "      <th>SibSp</th>\n",
              "      <th>Parch</th>\n",
              "      <th>Ticket</th>\n",
              "      <th>Fare</th>\n",
              "      <th>Cabin</th>\n",
              "      <th>Embarked</th>\n",
              "      <th>male</th>\n",
              "    </tr>\n",
              "  </thead>\n",
              "  <tbody>\n",
              "    <tr>\n",
              "      <th>0</th>\n",
              "      <td>1</td>\n",
              "      <td>0</td>\n",
              "      <td>3</td>\n",
              "      <td>Braund, Mr. Owen Harris</td>\n",
              "      <td>male</td>\n",
              "      <td>22.0</td>\n",
              "      <td>1</td>\n",
              "      <td>0</td>\n",
              "      <td>A/5 21171</td>\n",
              "      <td>7.2500</td>\n",
              "      <td>NaN</td>\n",
              "      <td>S</td>\n",
              "      <td>True</td>\n",
              "    </tr>\n",
              "    <tr>\n",
              "      <th>1</th>\n",
              "      <td>2</td>\n",
              "      <td>1</td>\n",
              "      <td>1</td>\n",
              "      <td>Cumings, Mrs. John Bradley (Florence Briggs Th...</td>\n",
              "      <td>female</td>\n",
              "      <td>38.0</td>\n",
              "      <td>1</td>\n",
              "      <td>0</td>\n",
              "      <td>PC 17599</td>\n",
              "      <td>71.2833</td>\n",
              "      <td>C85</td>\n",
              "      <td>C</td>\n",
              "      <td>False</td>\n",
              "    </tr>\n",
              "    <tr>\n",
              "      <th>2</th>\n",
              "      <td>3</td>\n",
              "      <td>1</td>\n",
              "      <td>3</td>\n",
              "      <td>Heikkinen, Miss. Laina</td>\n",
              "      <td>female</td>\n",
              "      <td>26.0</td>\n",
              "      <td>0</td>\n",
              "      <td>0</td>\n",
              "      <td>STON/O2. 3101282</td>\n",
              "      <td>7.9250</td>\n",
              "      <td>NaN</td>\n",
              "      <td>S</td>\n",
              "      <td>False</td>\n",
              "    </tr>\n",
              "    <tr>\n",
              "      <th>3</th>\n",
              "      <td>4</td>\n",
              "      <td>1</td>\n",
              "      <td>1</td>\n",
              "      <td>Futrelle, Mrs. Jacques Heath (Lily May Peel)</td>\n",
              "      <td>female</td>\n",
              "      <td>35.0</td>\n",
              "      <td>1</td>\n",
              "      <td>0</td>\n",
              "      <td>113803</td>\n",
              "      <td>53.1000</td>\n",
              "      <td>C123</td>\n",
              "      <td>S</td>\n",
              "      <td>False</td>\n",
              "    </tr>\n",
              "    <tr>\n",
              "      <th>4</th>\n",
              "      <td>5</td>\n",
              "      <td>0</td>\n",
              "      <td>3</td>\n",
              "      <td>Allen, Mr. William Henry</td>\n",
              "      <td>male</td>\n",
              "      <td>35.0</td>\n",
              "      <td>0</td>\n",
              "      <td>0</td>\n",
              "      <td>373450</td>\n",
              "      <td>8.0500</td>\n",
              "      <td>NaN</td>\n",
              "      <td>S</td>\n",
              "      <td>True</td>\n",
              "    </tr>\n",
              "  </tbody>\n",
              "</table>\n",
              "</div>\n",
              "    <div class=\"colab-df-buttons\">\n",
              "\n",
              "  <div class=\"colab-df-container\">\n",
              "    <button class=\"colab-df-convert\" onclick=\"convertToInteractive('df-8c5bd454-b885-4bc5-87a4-a341bfc20c02')\"\n",
              "            title=\"Convert this dataframe to an interactive table.\"\n",
              "            style=\"display:none;\">\n",
              "\n",
              "  <svg xmlns=\"http://www.w3.org/2000/svg\" height=\"24px\" viewBox=\"0 -960 960 960\">\n",
              "    <path d=\"M120-120v-720h720v720H120Zm60-500h600v-160H180v160Zm220 220h160v-160H400v160Zm0 220h160v-160H400v160ZM180-400h160v-160H180v160Zm440 0h160v-160H620v160ZM180-180h160v-160H180v160Zm440 0h160v-160H620v160Z\"/>\n",
              "  </svg>\n",
              "    </button>\n",
              "\n",
              "  <style>\n",
              "    .colab-df-container {\n",
              "      display:flex;\n",
              "      gap: 12px;\n",
              "    }\n",
              "\n",
              "    .colab-df-convert {\n",
              "      background-color: #E8F0FE;\n",
              "      border: none;\n",
              "      border-radius: 50%;\n",
              "      cursor: pointer;\n",
              "      display: none;\n",
              "      fill: #1967D2;\n",
              "      height: 32px;\n",
              "      padding: 0 0 0 0;\n",
              "      width: 32px;\n",
              "    }\n",
              "\n",
              "    .colab-df-convert:hover {\n",
              "      background-color: #E2EBFA;\n",
              "      box-shadow: 0px 1px 2px rgba(60, 64, 67, 0.3), 0px 1px 3px 1px rgba(60, 64, 67, 0.15);\n",
              "      fill: #174EA6;\n",
              "    }\n",
              "\n",
              "    .colab-df-buttons div {\n",
              "      margin-bottom: 4px;\n",
              "    }\n",
              "\n",
              "    [theme=dark] .colab-df-convert {\n",
              "      background-color: #3B4455;\n",
              "      fill: #D2E3FC;\n",
              "    }\n",
              "\n",
              "    [theme=dark] .colab-df-convert:hover {\n",
              "      background-color: #434B5C;\n",
              "      box-shadow: 0px 1px 3px 1px rgba(0, 0, 0, 0.15);\n",
              "      filter: drop-shadow(0px 1px 2px rgba(0, 0, 0, 0.3));\n",
              "      fill: #FFFFFF;\n",
              "    }\n",
              "  </style>\n",
              "\n",
              "    <script>\n",
              "      const buttonEl =\n",
              "        document.querySelector('#df-8c5bd454-b885-4bc5-87a4-a341bfc20c02 button.colab-df-convert');\n",
              "      buttonEl.style.display =\n",
              "        google.colab.kernel.accessAllowed ? 'block' : 'none';\n",
              "\n",
              "      async function convertToInteractive(key) {\n",
              "        const element = document.querySelector('#df-8c5bd454-b885-4bc5-87a4-a341bfc20c02');\n",
              "        const dataTable =\n",
              "          await google.colab.kernel.invokeFunction('convertToInteractive',\n",
              "                                                    [key], {});\n",
              "        if (!dataTable) return;\n",
              "\n",
              "        const docLinkHtml = 'Like what you see? Visit the ' +\n",
              "          '<a target=\"_blank\" href=https://colab.research.google.com/notebooks/data_table.ipynb>data table notebook</a>'\n",
              "          + ' to learn more about interactive tables.';\n",
              "        element.innerHTML = '';\n",
              "        dataTable['output_type'] = 'display_data';\n",
              "        await google.colab.output.renderOutput(dataTable, element);\n",
              "        const docLink = document.createElement('div');\n",
              "        docLink.innerHTML = docLinkHtml;\n",
              "        element.appendChild(docLink);\n",
              "      }\n",
              "    </script>\n",
              "  </div>\n",
              "\n",
              "\n",
              "<div id=\"df-d377a6d0-75d5-42c3-af5e-7fdf6fb27c74\">\n",
              "  <button class=\"colab-df-quickchart\" onclick=\"quickchart('df-d377a6d0-75d5-42c3-af5e-7fdf6fb27c74')\"\n",
              "            title=\"Suggest charts\"\n",
              "            style=\"display:none;\">\n",
              "\n",
              "<svg xmlns=\"http://www.w3.org/2000/svg\" height=\"24px\"viewBox=\"0 0 24 24\"\n",
              "     width=\"24px\">\n",
              "    <g>\n",
              "        <path d=\"M19 3H5c-1.1 0-2 .9-2 2v14c0 1.1.9 2 2 2h14c1.1 0 2-.9 2-2V5c0-1.1-.9-2-2-2zM9 17H7v-7h2v7zm4 0h-2V7h2v10zm4 0h-2v-4h2v4z\"/>\n",
              "    </g>\n",
              "</svg>\n",
              "  </button>\n",
              "\n",
              "<style>\n",
              "  .colab-df-quickchart {\n",
              "      --bg-color: #E8F0FE;\n",
              "      --fill-color: #1967D2;\n",
              "      --hover-bg-color: #E2EBFA;\n",
              "      --hover-fill-color: #174EA6;\n",
              "      --disabled-fill-color: #AAA;\n",
              "      --disabled-bg-color: #DDD;\n",
              "  }\n",
              "\n",
              "  [theme=dark] .colab-df-quickchart {\n",
              "      --bg-color: #3B4455;\n",
              "      --fill-color: #D2E3FC;\n",
              "      --hover-bg-color: #434B5C;\n",
              "      --hover-fill-color: #FFFFFF;\n",
              "      --disabled-bg-color: #3B4455;\n",
              "      --disabled-fill-color: #666;\n",
              "  }\n",
              "\n",
              "  .colab-df-quickchart {\n",
              "    background-color: var(--bg-color);\n",
              "    border: none;\n",
              "    border-radius: 50%;\n",
              "    cursor: pointer;\n",
              "    display: none;\n",
              "    fill: var(--fill-color);\n",
              "    height: 32px;\n",
              "    padding: 0;\n",
              "    width: 32px;\n",
              "  }\n",
              "\n",
              "  .colab-df-quickchart:hover {\n",
              "    background-color: var(--hover-bg-color);\n",
              "    box-shadow: 0 1px 2px rgba(60, 64, 67, 0.3), 0 1px 3px 1px rgba(60, 64, 67, 0.15);\n",
              "    fill: var(--button-hover-fill-color);\n",
              "  }\n",
              "\n",
              "  .colab-df-quickchart-complete:disabled,\n",
              "  .colab-df-quickchart-complete:disabled:hover {\n",
              "    background-color: var(--disabled-bg-color);\n",
              "    fill: var(--disabled-fill-color);\n",
              "    box-shadow: none;\n",
              "  }\n",
              "\n",
              "  .colab-df-spinner {\n",
              "    border: 2px solid var(--fill-color);\n",
              "    border-color: transparent;\n",
              "    border-bottom-color: var(--fill-color);\n",
              "    animation:\n",
              "      spin 1s steps(1) infinite;\n",
              "  }\n",
              "\n",
              "  @keyframes spin {\n",
              "    0% {\n",
              "      border-color: transparent;\n",
              "      border-bottom-color: var(--fill-color);\n",
              "      border-left-color: var(--fill-color);\n",
              "    }\n",
              "    20% {\n",
              "      border-color: transparent;\n",
              "      border-left-color: var(--fill-color);\n",
              "      border-top-color: var(--fill-color);\n",
              "    }\n",
              "    30% {\n",
              "      border-color: transparent;\n",
              "      border-left-color: var(--fill-color);\n",
              "      border-top-color: var(--fill-color);\n",
              "      border-right-color: var(--fill-color);\n",
              "    }\n",
              "    40% {\n",
              "      border-color: transparent;\n",
              "      border-right-color: var(--fill-color);\n",
              "      border-top-color: var(--fill-color);\n",
              "    }\n",
              "    60% {\n",
              "      border-color: transparent;\n",
              "      border-right-color: var(--fill-color);\n",
              "    }\n",
              "    80% {\n",
              "      border-color: transparent;\n",
              "      border-right-color: var(--fill-color);\n",
              "      border-bottom-color: var(--fill-color);\n",
              "    }\n",
              "    90% {\n",
              "      border-color: transparent;\n",
              "      border-bottom-color: var(--fill-color);\n",
              "    }\n",
              "  }\n",
              "</style>\n",
              "\n",
              "  <script>\n",
              "    async function quickchart(key) {\n",
              "      const quickchartButtonEl =\n",
              "        document.querySelector('#' + key + ' button');\n",
              "      quickchartButtonEl.disabled = true;  // To prevent multiple clicks.\n",
              "      quickchartButtonEl.classList.add('colab-df-spinner');\n",
              "      try {\n",
              "        const charts = await google.colab.kernel.invokeFunction(\n",
              "            'suggestCharts', [key], {});\n",
              "      } catch (error) {\n",
              "        console.error('Error during call to suggestCharts:', error);\n",
              "      }\n",
              "      quickchartButtonEl.classList.remove('colab-df-spinner');\n",
              "      quickchartButtonEl.classList.add('colab-df-quickchart-complete');\n",
              "    }\n",
              "    (() => {\n",
              "      let quickchartButtonEl =\n",
              "        document.querySelector('#df-d377a6d0-75d5-42c3-af5e-7fdf6fb27c74 button');\n",
              "      quickchartButtonEl.style.display =\n",
              "        google.colab.kernel.accessAllowed ? 'block' : 'none';\n",
              "    })();\n",
              "  </script>\n",
              "</div>\n",
              "\n",
              "    </div>\n",
              "  </div>\n"
            ],
            "application/vnd.google.colaboratory.intrinsic+json": {
              "type": "dataframe",
              "variable_name": "df",
              "summary": "{\n  \"name\": \"df\",\n  \"rows\": 714,\n  \"fields\": [\n    {\n      \"column\": \"PassengerId\",\n      \"properties\": {\n        \"dtype\": \"number\",\n        \"std\": 259,\n        \"min\": 1,\n        \"max\": 891,\n        \"num_unique_values\": 714,\n        \"samples\": [\n          150,\n          408,\n          54\n        ],\n        \"semantic_type\": \"\",\n        \"description\": \"\"\n      }\n    },\n    {\n      \"column\": \"Survived\",\n      \"properties\": {\n        \"dtype\": \"number\",\n        \"std\": 0,\n        \"min\": 0,\n        \"max\": 1,\n        \"num_unique_values\": 2,\n        \"samples\": [\n          1,\n          0\n        ],\n        \"semantic_type\": \"\",\n        \"description\": \"\"\n      }\n    },\n    {\n      \"column\": \"Pclass\",\n      \"properties\": {\n        \"dtype\": \"number\",\n        \"std\": 0,\n        \"min\": 1,\n        \"max\": 3,\n        \"num_unique_values\": 3,\n        \"samples\": [\n          3,\n          1\n        ],\n        \"semantic_type\": \"\",\n        \"description\": \"\"\n      }\n    },\n    {\n      \"column\": \"Name\",\n      \"properties\": {\n        \"dtype\": \"string\",\n        \"num_unique_values\": 714,\n        \"samples\": [\n          \"Byles, Rev. Thomas Roussel Davids\",\n          \"Richards, Master. William Rowe\"\n        ],\n        \"semantic_type\": \"\",\n        \"description\": \"\"\n      }\n    },\n    {\n      \"column\": \"Sex\",\n      \"properties\": {\n        \"dtype\": \"category\",\n        \"num_unique_values\": 2,\n        \"samples\": [\n          \"female\",\n          \"male\"\n        ],\n        \"semantic_type\": \"\",\n        \"description\": \"\"\n      }\n    },\n    {\n      \"column\": \"Age\",\n      \"properties\": {\n        \"dtype\": \"number\",\n        \"std\": 14.526497332334042,\n        \"min\": 0.42,\n        \"max\": 80.0,\n        \"num_unique_values\": 88,\n        \"samples\": [\n          0.75,\n          22.0\n        ],\n        \"semantic_type\": \"\",\n        \"description\": \"\"\n      }\n    },\n    {\n      \"column\": \"SibSp\",\n      \"properties\": {\n        \"dtype\": \"number\",\n        \"std\": 0,\n        \"min\": 0,\n        \"max\": 5,\n        \"num_unique_values\": 6,\n        \"samples\": [\n          1,\n          0\n        ],\n        \"semantic_type\": \"\",\n        \"description\": \"\"\n      }\n    },\n    {\n      \"column\": \"Parch\",\n      \"properties\": {\n        \"dtype\": \"number\",\n        \"std\": 0,\n        \"min\": 0,\n        \"max\": 6,\n        \"num_unique_values\": 7,\n        \"samples\": [\n          0,\n          1\n        ],\n        \"semantic_type\": \"\",\n        \"description\": \"\"\n      }\n    },\n    {\n      \"column\": \"Ticket\",\n      \"properties\": {\n        \"dtype\": \"string\",\n        \"num_unique_values\": 542,\n        \"samples\": [\n          \"17421\",\n          \"231919\"\n        ],\n        \"semantic_type\": \"\",\n        \"description\": \"\"\n      }\n    },\n    {\n      \"column\": \"Fare\",\n      \"properties\": {\n        \"dtype\": \"number\",\n        \"std\": 52.91892950254356,\n        \"min\": 0.0,\n        \"max\": 512.3292,\n        \"num_unique_values\": 220,\n        \"samples\": [\n          14.0,\n          15.7417\n        ],\n        \"semantic_type\": \"\",\n        \"description\": \"\"\n      }\n    },\n    {\n      \"column\": \"Cabin\",\n      \"properties\": {\n        \"dtype\": \"category\",\n        \"num_unique_values\": 134,\n        \"samples\": [\n          \"E49\",\n          \"E10\"\n        ],\n        \"semantic_type\": \"\",\n        \"description\": \"\"\n      }\n    },\n    {\n      \"column\": \"Embarked\",\n      \"properties\": {\n        \"dtype\": \"category\",\n        \"num_unique_values\": 3,\n        \"samples\": [\n          \"S\",\n          \"C\"\n        ],\n        \"semantic_type\": \"\",\n        \"description\": \"\"\n      }\n    },\n    {\n      \"column\": \"male\",\n      \"properties\": {\n        \"dtype\": \"boolean\",\n        \"num_unique_values\": 2,\n        \"samples\": [\n          false,\n          true\n        ],\n        \"semantic_type\": \"\",\n        \"description\": \"\"\n      }\n    }\n  ]\n}"
            }
          },
          "metadata": {},
          "execution_count": 6
        }
      ]
    },
    {
      "cell_type": "code",
      "source": [],
      "metadata": {
        "id": "MMr5ItPYFNPa"
      },
      "execution_count": null,
      "outputs": []
    },
    {
      "cell_type": "markdown",
      "source": [
        "\n",
        "\n",
        "---\n",
        "\n"
      ],
      "metadata": {
        "id": "HI7f90TLFOcd"
      }
    },
    {
      "cell_type": "markdown",
      "source": [
        "## Creamos un modelo básico de prueba:"
      ],
      "metadata": {
        "id": "zbuyKhUeFPoN"
      }
    },
    {
      "cell_type": "markdown",
      "source": [
        "Tomamos las features y creamos un array numpy llamado **X**.\n",
        "\n",
        "Primero seleccionamos todas las columnas que nos interesan y luego usamos el método **.values** para convertirlas en una matriz numpy."
      ],
      "metadata": {
        "id": "iepdaaBmFcMr"
      }
    },
    {
      "cell_type": "code",
      "source": [
        "X = df[['Pclass', 'male', 'Age', 'SibSp', 'Parch', 'Fare']].values\n",
        "print(X)"
      ],
      "metadata": {
        "colab": {
          "base_uri": "https://localhost:8080/"
        },
        "id": "DdyLIJiLLmMx",
        "outputId": "f4e4f7e0-81fc-4447-ac31-4a9c209c4955"
      },
      "execution_count": null,
      "outputs": [
        {
          "output_type": "stream",
          "name": "stdout",
          "text": [
            "[[3 True 22.0 1 0 7.25]\n",
            " [1 False 38.0 1 0 71.2833]\n",
            " [3 False 26.0 0 0 7.925]\n",
            " ...\n",
            " [1 False 19.0 0 0 30.0]\n",
            " [1 True 26.0 0 0 30.0]\n",
            " [3 True 32.0 0 0 7.75]]\n"
          ]
        }
      ]
    },
    {
      "cell_type": "markdown",
      "source": [
        "* Ahora tomamos la variable **target** (la columna **Survived**) y la almacenamos en la variable **y**."
      ],
      "metadata": {
        "id": "ciTIhDCyL-a1"
      }
    },
    {
      "cell_type": "code",
      "source": [
        "y = df['Survived'].values[:50] # mostramos sólo los primeros 50\n",
        "print(y)"
      ],
      "metadata": {
        "colab": {
          "base_uri": "https://localhost:8080/"
        },
        "id": "J9ZLJ95CMGEN",
        "outputId": "4eeea408-fed7-482a-f56f-864554838533"
      },
      "execution_count": null,
      "outputs": [
        {
          "output_type": "stream",
          "name": "stdout",
          "text": [
            "[0 1 1 1 0 0 0 1 1 1 1 0 0 0 1 0 0 0 1 1 1 0 1 0 0 0 0 0 0 0 1 0 0 1 1 0 0\n",
            " 0 1 1 0 1 0 1 0 0 1 0 0 1]\n"
          ]
        }
      ]
    },
    {
      "cell_type": "code",
      "source": [
        "# comenzamos importando Logistic Regression model:\n",
        "from sklearn.linear_model import LogisticRegression"
      ],
      "metadata": {
        "id": "LyNsFD9GN1a4"
      },
      "execution_count": null,
      "outputs": []
    },
    {
      "cell_type": "code",
      "source": [
        "# todos los modelos sklearn están construidos como clases de Python.\n",
        "# primero instanciamos la clase:\n",
        "model = LogisticRegression()"
      ],
      "metadata": {
        "id": "PfNZmz24N53h"
      },
      "execution_count": null,
      "outputs": []
    },
    {
      "cell_type": "markdown",
      "source": [
        "Ahora podemos usar nuestros datos que preparamos previamente para entrenar el modelo.\n",
        "\n",
        "Para simplificar, supongamos primero que estamos creando un modelo de regresión logística utilizando solo las columnas Fare (Tarifa) y Age (Edad).\n",
        "\n",
        "Primero definimos\n",
        "*  **X** como la matriz de features, e\n",
        "*  **y** la matriz objetivo:"
      ],
      "metadata": {
        "id": "XxCfrq6cHgb9"
      }
    },
    {
      "cell_type": "code",
      "source": [
        "X = df[['Fare', 'Age']].values\n",
        "y = df['Survived'].values"
      ],
      "metadata": {
        "id": "ylvrCUyfOWim"
      },
      "execution_count": null,
      "outputs": []
    },
    {
      "cell_type": "markdown",
      "source": [
        "* El método **fit** es usado para construir el modelo.\n",
        "* **Se toman 2 argumentos:**\n",
        "1. **X** (the features)\n",
        "2. **y** (the target)."
      ],
      "metadata": {
        "id": "vEzoHMmbOOyH"
      }
    },
    {
      "cell_type": "code",
      "source": [
        "# Now we use the fit method to build the model.\n",
        "model.fit(X, y)"
      ],
      "metadata": {
        "colab": {
          "base_uri": "https://localhost:8080/",
          "height": 75
        },
        "id": "kPaZIaV4Ovve",
        "outputId": "365eaf7f-4cd3-4f60-be4f-ac29a4b790af"
      },
      "execution_count": null,
      "outputs": [
        {
          "output_type": "execute_result",
          "data": {
            "text/plain": [
              "LogisticRegression()"
            ],
            "text/html": [
              "<style>#sk-container-id-2 {color: black;background-color: white;}#sk-container-id-2 pre{padding: 0;}#sk-container-id-2 div.sk-toggleable {background-color: white;}#sk-container-id-2 label.sk-toggleable__label {cursor: pointer;display: block;width: 100%;margin-bottom: 0;padding: 0.3em;box-sizing: border-box;text-align: center;}#sk-container-id-2 label.sk-toggleable__label-arrow:before {content: \"▸\";float: left;margin-right: 0.25em;color: #696969;}#sk-container-id-2 label.sk-toggleable__label-arrow:hover:before {color: black;}#sk-container-id-2 div.sk-estimator:hover label.sk-toggleable__label-arrow:before {color: black;}#sk-container-id-2 div.sk-toggleable__content {max-height: 0;max-width: 0;overflow: hidden;text-align: left;background-color: #f0f8ff;}#sk-container-id-2 div.sk-toggleable__content pre {margin: 0.2em;color: black;border-radius: 0.25em;background-color: #f0f8ff;}#sk-container-id-2 input.sk-toggleable__control:checked~div.sk-toggleable__content {max-height: 200px;max-width: 100%;overflow: auto;}#sk-container-id-2 input.sk-toggleable__control:checked~label.sk-toggleable__label-arrow:before {content: \"▾\";}#sk-container-id-2 div.sk-estimator input.sk-toggleable__control:checked~label.sk-toggleable__label {background-color: #d4ebff;}#sk-container-id-2 div.sk-label input.sk-toggleable__control:checked~label.sk-toggleable__label {background-color: #d4ebff;}#sk-container-id-2 input.sk-hidden--visually {border: 0;clip: rect(1px 1px 1px 1px);clip: rect(1px, 1px, 1px, 1px);height: 1px;margin: -1px;overflow: hidden;padding: 0;position: absolute;width: 1px;}#sk-container-id-2 div.sk-estimator {font-family: monospace;background-color: #f0f8ff;border: 1px dotted black;border-radius: 0.25em;box-sizing: border-box;margin-bottom: 0.5em;}#sk-container-id-2 div.sk-estimator:hover {background-color: #d4ebff;}#sk-container-id-2 div.sk-parallel-item::after {content: \"\";width: 100%;border-bottom: 1px solid gray;flex-grow: 1;}#sk-container-id-2 div.sk-label:hover label.sk-toggleable__label {background-color: #d4ebff;}#sk-container-id-2 div.sk-serial::before {content: \"\";position: absolute;border-left: 1px solid gray;box-sizing: border-box;top: 0;bottom: 0;left: 50%;z-index: 0;}#sk-container-id-2 div.sk-serial {display: flex;flex-direction: column;align-items: center;background-color: white;padding-right: 0.2em;padding-left: 0.2em;position: relative;}#sk-container-id-2 div.sk-item {position: relative;z-index: 1;}#sk-container-id-2 div.sk-parallel {display: flex;align-items: stretch;justify-content: center;background-color: white;position: relative;}#sk-container-id-2 div.sk-item::before, #sk-container-id-2 div.sk-parallel-item::before {content: \"\";position: absolute;border-left: 1px solid gray;box-sizing: border-box;top: 0;bottom: 0;left: 50%;z-index: -1;}#sk-container-id-2 div.sk-parallel-item {display: flex;flex-direction: column;z-index: 1;position: relative;background-color: white;}#sk-container-id-2 div.sk-parallel-item:first-child::after {align-self: flex-end;width: 50%;}#sk-container-id-2 div.sk-parallel-item:last-child::after {align-self: flex-start;width: 50%;}#sk-container-id-2 div.sk-parallel-item:only-child::after {width: 0;}#sk-container-id-2 div.sk-dashed-wrapped {border: 1px dashed gray;margin: 0 0.4em 0.5em 0.4em;box-sizing: border-box;padding-bottom: 0.4em;background-color: white;}#sk-container-id-2 div.sk-label label {font-family: monospace;font-weight: bold;display: inline-block;line-height: 1.2em;}#sk-container-id-2 div.sk-label-container {text-align: center;}#sk-container-id-2 div.sk-container {/* jupyter's `normalize.less` sets `[hidden] { display: none; }` but bootstrap.min.css set `[hidden] { display: none !important; }` so we also need the `!important` here to be able to override the default hidden behavior on the sphinx rendered scikit-learn.org. See: https://github.com/scikit-learn/scikit-learn/issues/21755 */display: inline-block !important;position: relative;}#sk-container-id-2 div.sk-text-repr-fallback {display: none;}</style><div id=\"sk-container-id-2\" class=\"sk-top-container\"><div class=\"sk-text-repr-fallback\"><pre>LogisticRegression()</pre><b>In a Jupyter environment, please rerun this cell to show the HTML representation or trust the notebook. <br />On GitHub, the HTML representation is unable to render, please try loading this page with nbviewer.org.</b></div><div class=\"sk-container\" hidden><div class=\"sk-item\"><div class=\"sk-estimator sk-toggleable\"><input class=\"sk-toggleable__control sk-hidden--visually\" id=\"sk-estimator-id-2\" type=\"checkbox\" checked><label for=\"sk-estimator-id-2\" class=\"sk-toggleable__label sk-toggleable__label-arrow\">LogisticRegression</label><div class=\"sk-toggleable__content\"><pre>LogisticRegression()</pre></div></div></div></div></div>"
            ]
          },
          "metadata": {},
          "execution_count": 34
        }
      ]
    },
    {
      "cell_type": "markdown",
      "source": [
        "Hacemos predicciones con el modelo, utilizando **model.predict**"
      ],
      "metadata": {
        "id": "dXn7j0a4Ix4m"
      }
    },
    {
      "cell_type": "code",
      "source": [
        "model.predict(X)"
      ],
      "metadata": {
        "colab": {
          "base_uri": "https://localhost:8080/"
        },
        "id": "XgdeZ21GJBMw",
        "outputId": "2b739aa8-637c-4070-e92c-4dc75c2ec305"
      },
      "execution_count": null,
      "outputs": [
        {
          "output_type": "execute_result",
          "data": {
            "text/plain": [
              "array([0, 1, 0, 0, 0, 0, 0, 0, 0, 0, 0, 0, 0, 0, 0, 1, 0, 0, 0, 0, 0, 0,\n",
              "       0, 1, 0, 0, 1, 0, 0, 0, 0, 0, 0, 1, 0, 0, 1, 0, 1, 0, 0, 0, 0, 0,\n",
              "       1, 0, 1, 1, 0, 0, 0, 0, 0, 0, 1, 1, 0, 0, 0, 1, 0, 0, 0, 0, 0, 0,\n",
              "       0, 1, 0, 0, 0, 0, 0, 0, 0, 1, 0, 0, 0, 1, 0, 0, 0, 0, 0, 0, 0, 0,\n",
              "       0, 0, 0, 0, 0, 1, 1, 1, 0, 0, 0, 0, 0, 0, 0, 0, 0, 0, 0, 0, 0, 0,\n",
              "       0, 1, 0, 0, 0, 0, 0, 0, 1, 0, 0, 0, 1, 0, 0, 0, 0, 0, 0, 0, 0, 0,\n",
              "       1, 0, 0, 1, 0, 1, 0, 0, 0, 0, 0, 0, 0, 0, 1, 0, 0, 0, 0, 0, 0, 0,\n",
              "       0, 0, 1, 0, 0, 0, 0, 0, 0, 0, 0, 0, 0, 0, 0, 0, 0, 0, 1, 0, 0, 1,\n",
              "       0, 0, 0, 0, 1, 0, 0, 0, 0, 1, 0, 0, 1, 0, 0, 0, 0, 0, 0, 0, 0, 1,\n",
              "       0, 0, 0, 0, 0, 0, 0, 0, 0, 1, 1, 0, 1, 1, 0, 0, 0, 0, 1, 1, 0, 0,\n",
              "       0, 0, 0, 0, 0, 0, 0, 0, 0, 0, 0, 0, 0, 0, 1, 1, 0, 0, 0, 0, 1, 1,\n",
              "       0, 1, 1, 0, 1, 1, 1, 0, 0, 0, 0, 0, 0, 1, 1, 0, 0, 0, 0, 1, 0, 0,\n",
              "       0, 1, 0, 1, 0, 1, 1, 0, 0, 0, 1, 0, 0, 0, 0, 0, 0, 0, 0, 0, 0, 0,\n",
              "       1, 0, 0, 0, 0, 0, 0, 0, 1, 1, 0, 0, 1, 0, 0, 1, 0, 0, 1, 0, 0, 0,\n",
              "       1, 1, 0, 0, 1, 0, 0, 1, 0, 0, 0, 0, 0, 0, 0, 0, 0, 0, 0, 0, 0, 0,\n",
              "       0, 1, 0, 0, 0, 0, 0, 0, 0, 0, 0, 0, 0, 0, 0, 0, 0, 0, 1, 0, 0, 1,\n",
              "       0, 0, 0, 0, 0, 1, 0, 0, 0, 0, 0, 0, 1, 0, 0, 0, 0, 0, 0, 0, 0, 0,\n",
              "       0, 0, 0, 0, 0, 0, 0, 0, 0, 1, 0, 0, 1, 1, 0, 0, 0, 0, 0, 0, 0, 0,\n",
              "       1, 0, 0, 0, 0, 1, 1, 0, 0, 1, 0, 0, 0, 0, 0, 0, 0, 0, 1, 0, 0, 0,\n",
              "       0, 0, 0, 0, 0, 0, 0, 0, 1, 1, 1, 0, 0, 0, 1, 0, 0, 0, 1, 1, 0, 0,\n",
              "       0, 0, 0, 1, 0, 0, 0, 0, 0, 0, 0, 0, 0, 0, 0, 0, 0, 0, 0, 0, 1, 0,\n",
              "       0, 1, 0, 0, 0, 0, 1, 0, 0, 0, 0, 0, 0, 0, 0, 0, 0, 0, 0, 1, 0, 0,\n",
              "       1, 0, 0, 1, 0, 0, 0, 0, 0, 0, 0, 0, 1, 0, 0, 0, 0, 0, 0, 0, 0, 0,\n",
              "       0, 1, 1, 0, 1, 0, 0, 0, 0, 0, 0, 1, 0, 0, 1, 1, 0, 0, 0, 0, 1, 0,\n",
              "       0, 0, 0, 0, 0, 0, 0, 0, 0, 1, 1, 0, 1, 0, 0, 1, 0, 0, 1, 1, 0, 0,\n",
              "       0, 0, 0, 1, 0, 1, 0, 0, 0, 0, 0, 0, 0, 1, 1, 0, 0, 0, 0, 1, 0, 0,\n",
              "       1, 0, 0, 0, 1, 0, 0, 0, 0, 1, 0, 0, 0, 0, 0, 1, 1, 1, 0, 0, 0, 0,\n",
              "       0, 1, 0, 0, 0, 0, 0, 0, 0, 0, 0, 0, 1, 0, 0, 1, 0, 1, 0, 0, 0, 0,\n",
              "       0, 0, 0, 0, 1, 0, 1, 0, 0, 0, 0, 0, 0, 1, 0, 0, 0, 0, 0, 0, 0, 0,\n",
              "       0, 1, 0, 0, 0, 0, 0, 0, 0, 0, 0, 0, 1, 0, 0, 0, 0, 0, 1, 0, 0, 0,\n",
              "       1, 1, 0, 0, 0, 0, 0, 1, 0, 0, 0, 0, 0, 0, 0, 0, 0, 0, 1, 0, 0, 0,\n",
              "       0, 0, 1, 0, 0, 0, 0, 0, 0, 0, 0, 0, 0, 0, 0, 0, 0, 0, 0, 0, 0, 1,\n",
              "       0, 0, 0, 0, 0, 0, 0, 0, 0, 0])"
            ]
          },
          "metadata": {},
          "execution_count": 35
        }
      ]
    },
    {
      "cell_type": "markdown",
      "source": [
        "El método **.predict** devuelve una matriz de unos y ceros, donde:\n",
        "* 1 significa que el modelo predice que el pasajero sobrevivió y\n",
        "* 0 significa que el modelo predice que el pasajero no sobrevivió."
      ],
      "metadata": {
        "id": "zatMieRHJHL4"
      }
    },
    {
      "cell_type": "markdown",
      "source": [
        "\n",
        "\n",
        "---\n",
        "\n"
      ],
      "metadata": {
        "id": "yZZ46IAvKqYb"
      }
    },
    {
      "cell_type": "markdown",
      "source": [
        "## Reconstruyamos el modelo con todas las features:"
      ],
      "metadata": {
        "id": "fnkwcP6_KrJd"
      }
    },
    {
      "cell_type": "code",
      "source": [
        "X = df[['Pclass', 'male', 'Age', 'SibSp', 'Parch', 'Fare']].values\n",
        "y = df['Survived'].values\n",
        "model = LogisticRegression()\n",
        "model.fit(X, y)\n",
        "model.predict(X)"
      ],
      "metadata": {
        "colab": {
          "base_uri": "https://localhost:8080/"
        },
        "id": "FZPxFRMaUlPi",
        "outputId": "e72776d6-3b1e-41b1-be98-05cad0e3444a"
      },
      "execution_count": null,
      "outputs": [
        {
          "output_type": "execute_result",
          "data": {
            "text/plain": [
              "array([0, 1, 1, 1, 0, 0, 0, 1, 1, 1, 1, 0, 0, 1, 1, 0, 0, 0, 0, 1, 1, 1,\n",
              "       0, 1, 0, 0, 1, 0, 0, 1, 1, 0, 1, 1, 1, 1, 0, 0, 1, 1, 0, 1, 0, 1,\n",
              "       0, 0, 1, 0, 0, 1, 0, 0, 0, 0, 0, 0, 0, 0, 0, 1, 1, 0, 0, 1, 1, 0,\n",
              "       0, 1, 0, 0, 0, 0, 0, 0, 0, 1, 1, 0, 1, 1, 0, 0, 0, 1, 0, 0, 1, 0,\n",
              "       1, 1, 0, 0, 0, 1, 1, 0, 0, 1, 0, 0, 0, 0, 0, 0, 0, 1, 0, 0, 1, 0,\n",
              "       0, 1, 1, 1, 0, 0, 0, 0, 1, 0, 0, 0, 1, 0, 0, 0, 1, 0, 0, 1, 0, 0,\n",
              "       0, 0, 0, 0, 0, 0, 1, 0, 0, 0, 1, 0, 0, 0, 0, 1, 0, 0, 0, 1, 0, 1,\n",
              "       0, 1, 1, 0, 1, 0, 0, 0, 0, 1, 0, 0, 1, 0, 0, 1, 0, 0, 1, 1, 0, 1,\n",
              "       0, 0, 0, 0, 0, 0, 0, 0, 0, 1, 0, 0, 0, 0, 0, 1, 0, 0, 0, 0, 0, 0,\n",
              "       1, 1, 0, 0, 0, 0, 0, 0, 1, 1, 1, 1, 0, 0, 0, 0, 0, 0, 1, 1, 0, 1,\n",
              "       0, 1, 0, 0, 0, 0, 0, 0, 0, 0, 0, 0, 0, 1, 1, 1, 0, 1, 0, 0, 1, 1,\n",
              "       0, 1, 1, 0, 1, 1, 1, 1, 0, 0, 1, 1, 0, 1, 1, 0, 0, 1, 1, 1, 0, 1,\n",
              "       0, 1, 0, 1, 0, 1, 1, 0, 0, 0, 1, 0, 0, 0, 1, 1, 0, 0, 0, 0, 0, 0,\n",
              "       1, 1, 0, 0, 0, 0, 0, 1, 1, 1, 0, 0, 1, 1, 1, 1, 0, 0, 1, 1, 0, 1,\n",
              "       0, 0, 1, 1, 0, 0, 0, 1, 1, 0, 1, 0, 0, 1, 0, 0, 1, 0, 1, 0, 0, 0,\n",
              "       0, 1, 0, 1, 1, 0, 1, 0, 0, 0, 0, 1, 1, 0, 1, 1, 0, 0, 1, 0, 1, 0,\n",
              "       0, 1, 0, 0, 1, 1, 1, 1, 1, 0, 0, 1, 0, 0, 0, 1, 0, 0, 0, 0, 0, 0,\n",
              "       1, 0, 1, 1, 1, 0, 0, 0, 1, 0, 0, 0, 1, 1, 0, 0, 0, 0, 0, 0, 0, 1,\n",
              "       1, 0, 0, 1, 1, 1, 1, 1, 0, 0, 0, 0, 1, 0, 0, 1, 1, 0, 1, 0, 1, 0,\n",
              "       1, 0, 0, 1, 0, 1, 1, 0, 1, 1, 1, 0, 0, 0, 0, 0, 1, 0, 0, 1, 0, 0,\n",
              "       1, 0, 1, 1, 0, 0, 0, 0, 0, 1, 0, 0, 1, 0, 0, 0, 1, 1, 0, 1, 1, 0,\n",
              "       1, 1, 0, 0, 0, 0, 1, 0, 0, 0, 0, 0, 1, 0, 1, 0, 0, 1, 1, 1, 0, 0,\n",
              "       1, 0, 1, 1, 0, 0, 0, 0, 0, 0, 0, 0, 1, 0, 0, 0, 1, 1, 1, 0, 0, 0,\n",
              "       0, 1, 1, 1, 0, 0, 0, 1, 1, 0, 1, 0, 0, 0, 0, 0, 0, 0, 0, 0, 0, 0,\n",
              "       0, 1, 0, 0, 0, 0, 0, 1, 0, 1, 1, 0, 0, 0, 0, 0, 0, 0, 1, 0, 1, 0,\n",
              "       0, 0, 0, 0, 0, 1, 1, 1, 0, 0, 0, 1, 0, 1, 1, 0, 0, 0, 0, 1, 1, 0,\n",
              "       1, 0, 0, 0, 1, 0, 1, 0, 1, 1, 0, 0, 0, 0, 0, 1, 0, 1, 0, 0, 0, 0,\n",
              "       1, 1, 0, 1, 0, 0, 0, 1, 0, 0, 0, 0, 1, 0, 0, 1, 0, 1, 1, 0, 0, 0,\n",
              "       1, 0, 0, 1, 1, 1, 1, 1, 0, 0, 1, 0, 0, 0, 0, 0, 0, 1, 1, 0, 0, 0,\n",
              "       1, 1, 0, 0, 0, 0, 1, 0, 1, 0, 0, 0, 0, 0, 1, 0, 0, 0, 1, 0, 0, 1,\n",
              "       0, 1, 1, 1, 0, 0, 0, 1, 0, 0, 0, 0, 1, 0, 0, 0, 0, 0, 0, 0, 1, 1,\n",
              "       1, 1, 1, 0, 1, 0, 0, 1, 0, 1, 1, 1, 0, 0, 1, 1, 0, 1, 1, 0, 0, 1,\n",
              "       1, 0, 1, 0, 0, 0, 0, 1, 1, 0])"
            ]
          },
          "metadata": {},
          "execution_count": 28
        }
      ]
    },
    {
      "cell_type": "markdown",
      "source": [
        "### Vemos la predicción de nuestro modelo:"
      ],
      "metadata": {
        "id": "vbmTxnc7LFro"
      }
    },
    {
      "cell_type": "code",
      "source": [
        "prediccion= model.predict(X[:5])\n",
        "original= y[:5]\n",
        "print('Mostramos resultados de los primeros 5 valores:')\n",
        "print(f'Esta es la información de las variables target del dataset original:{original}')\n",
        "print(f'Esta es la predicción de nuestro modelo:{prediccion}')\n"
      ],
      "metadata": {
        "colab": {
          "base_uri": "https://localhost:8080/"
        },
        "id": "WwXVveY5UTYB",
        "outputId": "f1d3c07b-638b-42c1-f9de-fdd271f4da33"
      },
      "execution_count": null,
      "outputs": [
        {
          "output_type": "stream",
          "name": "stdout",
          "text": [
            "Mostramos resultados de los primeros 5 valores:\n",
            "Esta es la información de las variables target del dataset original:[0 1 1 1 0]\n",
            "Esta es la predicción de nuestro modelo:[0 1 1 1 0]\n"
          ]
        }
      ]
    },
    {
      "cell_type": "markdown",
      "source": [
        "## Evaluamos el accuracy:"
      ],
      "metadata": {
        "id": "92eRqM9uNI8q"
      }
    },
    {
      "cell_type": "code",
      "source": [
        "y_pred = model.predict(X) #creamos un array con nuestras predicciones"
      ],
      "metadata": {
        "id": "-XeiFlUIIxHN"
      },
      "execution_count": null,
      "outputs": []
    },
    {
      "cell_type": "code",
      "source": [
        "# Ahora creamos una matriz de valores booleanos\n",
        "# para determinar si nuestro modelo predijo correctamente a cada pasajero:\n",
        "#y == y_pred\n",
        "\n",
        "# Mostrar solo los primeros 20 valores del array\n",
        "for i in range(min(20, len(y))):\n",
        "    print(\"Valor real:\", y[i], \"| Valor predicho:\", y_pred[i], \"| Coincide:\", y[i] == y_pred[i])"
      ],
      "metadata": {
        "colab": {
          "base_uri": "https://localhost:8080/"
        },
        "id": "F75tpXUYNbVE",
        "outputId": "818b2e63-ed54-404f-e86e-cc2f7905fd8f"
      },
      "execution_count": null,
      "outputs": [
        {
          "output_type": "stream",
          "name": "stdout",
          "text": [
            "Valor real: 0 | Valor predicho: 0 | Coincide: True\n",
            "Valor real: 1 | Valor predicho: 1 | Coincide: True\n",
            "Valor real: 1 | Valor predicho: 1 | Coincide: True\n",
            "Valor real: 1 | Valor predicho: 1 | Coincide: True\n",
            "Valor real: 0 | Valor predicho: 0 | Coincide: True\n",
            "Valor real: 0 | Valor predicho: 0 | Coincide: True\n",
            "Valor real: 0 | Valor predicho: 0 | Coincide: True\n",
            "Valor real: 1 | Valor predicho: 1 | Coincide: True\n",
            "Valor real: 1 | Valor predicho: 1 | Coincide: True\n",
            "Valor real: 1 | Valor predicho: 1 | Coincide: True\n",
            "Valor real: 1 | Valor predicho: 1 | Coincide: True\n",
            "Valor real: 0 | Valor predicho: 0 | Coincide: True\n",
            "Valor real: 0 | Valor predicho: 0 | Coincide: True\n",
            "Valor real: 0 | Valor predicho: 1 | Coincide: False\n",
            "Valor real: 1 | Valor predicho: 1 | Coincide: True\n",
            "Valor real: 0 | Valor predicho: 0 | Coincide: True\n",
            "Valor real: 0 | Valor predicho: 0 | Coincide: True\n",
            "Valor real: 0 | Valor predicho: 0 | Coincide: True\n",
            "Valor real: 1 | Valor predicho: 0 | Coincide: False\n",
            "Valor real: 1 | Valor predicho: 1 | Coincide: True\n"
          ]
        }
      ]
    },
    {
      "cell_type": "markdown",
      "source": [
        "## Visualizamos el total de predicciones:"
      ],
      "metadata": {
        "id": "2usrhDUPNt-S"
      }
    },
    {
      "cell_type": "code",
      "source": [
        "tot= y.size # podemos usar también: y.shape[0]\n",
        "print(f'la cantidad total de predicciones es: {tot}')"
      ],
      "metadata": {
        "colab": {
          "base_uri": "https://localhost:8080/"
        },
        "id": "GVeQpmKINuaa",
        "outputId": "5f503da9-b837-46be-fbda-362d72464c5d"
      },
      "execution_count": null,
      "outputs": [
        {
          "output_type": "stream",
          "name": "stdout",
          "text": [
            "la cantidad total de predicciones es: 714\n"
          ]
        }
      ]
    },
    {
      "cell_type": "markdown",
      "source": [
        "\n",
        "### Para obtener el número de predicciones verdaderas, usamos el método **sum** de la librería numpy:"
      ],
      "metadata": {
        "id": "4l7lVQ2UN3Bq"
      }
    },
    {
      "cell_type": "code",
      "source": [
        "tot_true= (y == y_pred).sum()\n",
        "print(f'la cantidad total de predicciones verdaderas es: {tot_true}')"
      ],
      "metadata": {
        "colab": {
          "base_uri": "https://localhost:8080/"
        },
        "id": "Y1ejsa-YWkuU",
        "outputId": "794956d8-1370-4f71-e117-fe065e2f4ecf"
      },
      "execution_count": null,
      "outputs": [
        {
          "output_type": "stream",
          "name": "stdout",
          "text": [
            "la cantidad total de predicciones verdaderas es: 573\n"
          ]
        }
      ]
    },
    {
      "cell_type": "markdown",
      "source": [
        "\n",
        "Esto significa que de los 714 datos,\n",
        "\n",
        "el modelo hace la predicción correcta de la cantidad que visualizamos en la variable **tot_true**.\n",
        "\n",
        "Para obtener el porcentaje correcto, lo dividimos por el número total de pasajeros.\n",
        "\n",
        "Obtenemos el número total de pasajeros usando el atributo **.shape**."
      ],
      "metadata": {
        "id": "6_F9q3VAPMpP"
      }
    },
    {
      "cell_type": "code",
      "source": [
        "my_score = tot_true / y.shape[0]\n",
        "print(my_score)\n",
        "print(f'El accuracy de nuestro modelo es {round(my_score*100,2)}%')\n",
        "print (f'Nuestro modelo hizo una predicción correcta del {round(my_score*100)}% sobre el total de datos')"
      ],
      "metadata": {
        "colab": {
          "base_uri": "https://localhost:8080/"
        },
        "id": "oKHKPBYVY0-0",
        "outputId": "784df91c-581f-4eb6-b633-b56529066155"
      },
      "execution_count": null,
      "outputs": [
        {
          "output_type": "stream",
          "name": "stdout",
          "text": [
            "0.8025210084033614\n",
            "El accuracy de nuestro modelo es 80.25%\n",
            "Nuestro modelo hizo una predicción correcta del 80% sobre el total de datos\n"
          ]
        }
      ]
    },
    {
      "cell_type": "markdown",
      "source": [
        "Este cálculo **sklearn** ya lo ha implementado para nosotros.\n",
        "\n",
        "Entonces podemos obtener el mismo resultado usando el método **.score**.\n",
        "\n",
        "El método **.score** utiliza el modelo para hacer una predicción para **X**\n",
        "\n",
        "y cuenta qué porcentaje de ellos coincide con **y**."
      ],
      "metadata": {
        "id": "BZqPcQS7R92w"
      }
    },
    {
      "cell_type": "code",
      "source": [
        "print(f'sklearn model.score: {model.score(X,y)}')"
      ],
      "metadata": {
        "colab": {
          "base_uri": "https://localhost:8080/"
        },
        "id": "492W-90kSeq2",
        "outputId": "ac0af839-bb21-48ac-8ba2-26c837d74022"
      },
      "execution_count": null,
      "outputs": [
        {
          "output_type": "stream",
          "name": "stdout",
          "text": [
            "sklearn model.score: 0.8025210084033614\n"
          ]
        }
      ]
    },
    {
      "cell_type": "markdown",
      "source": [
        "\n",
        "\n",
        "---\n",
        "\n"
      ],
      "metadata": {
        "id": "USuk5e_MSsBm"
      }
    },
    {
      "cell_type": "markdown",
      "source": [
        "## Calculando métricas con Scikit-learn:\n",
        "\n",
        "##Accuracy, Precision, Recall & F1 Score in Sklearn\n",
        "\n",
        "Scikit-learn has a function built in for each of the metrics that we have introduced.\n",
        "\n",
        "We have a separate function for each of the accuracy, precision, recall and F1 score.\n",
        "\n",
        "In order to use them, let’s start by recalling our code from the previous module to build a Logistic Regression model.\n",
        "\n",
        "The code reads in the Titanic dataset from the csv file and puts it in a Pandas DataFrame.\n",
        "\n",
        "Then we create a feature matrix X and target values y.\n",
        "\n",
        "We create a Logistic Regression model and fit it to our dataset.\n",
        "\n",
        "Finally, we create a variable y_pred of our predictions."
      ],
      "metadata": {
        "id": "h-DVsIFuTg0M"
      }
    },
    {
      "cell_type": "code",
      "source": [
        "from sklearn.metrics import accuracy_score, precision_score, recall_score, f1_score\n",
        "print(\"accuracy:\", accuracy_score(y, y_pred))\n",
        "print(\"precision:\", precision_score(y, y_pred))\n",
        "print(\"recall:\", recall_score(y, y_pred))\n",
        "print(\"f1 score:\", f1_score(y, y_pred))"
      ],
      "metadata": {
        "colab": {
          "base_uri": "https://localhost:8080/"
        },
        "id": "5KE7-Z8PT2RN",
        "outputId": "eef1cda7-c2ac-46a4-c80a-82e789fd000f"
      },
      "execution_count": null,
      "outputs": [
        {
          "output_type": "stream",
          "name": "stdout",
          "text": [
            "accuracy: 0.8025210084033614\n",
            "precision: 0.7769516728624535\n",
            "recall: 0.7206896551724138\n",
            "f1 score: 0.7477638640429337\n"
          ]
        }
      ]
    },
    {
      "cell_type": "markdown",
      "source": [],
      "metadata": {
        "id": "uA8dGDk4UACq"
      }
    },
    {
      "cell_type": "code",
      "source": [
        "from sklearn.metrics import confusion_matrix\n",
        "print(confusion_matrix(y, y_pred))"
      ],
      "metadata": {
        "colab": {
          "base_uri": "https://localhost:8080/"
        },
        "id": "njjsWqFKUAP_",
        "outputId": "f95d4e72-9be0-4d7f-a880-c11c69cab8c2"
      },
      "execution_count": null,
      "outputs": [
        {
          "output_type": "stream",
          "name": "stdout",
          "text": [
            "[[364  60]\n",
            " [ 81 209]]\n"
          ]
        }
      ]
    },
    {
      "cell_type": "code",
      "source": [
        "from sklearn.metrics import confusion_matrix\n",
        "import numpy as np\n",
        "\n",
        "# Supongamos que y y y_pred son arrays de predicciones\n",
        "# Generemos valores de ejemplo\n",
        "#y = np.random.randint(0, 2, size=100)\n",
        "#y_pred = np.random.randint(0, 2, size=100)\n",
        "\n",
        "# Calculamos la matriz de confusión\n",
        "cm = confusion_matrix(y, y_pred)\n",
        "\n",
        "# Imprimimos la matriz de confusión\n",
        "print(\"Matriz de Confusión:\")\n",
        "print(cm)\n",
        "\n",
        "# Calculamos los índices de la matriz de confusión\n",
        "TN = cm[0][0]\n",
        "FP = cm[0][1]\n",
        "FN = cm[1][0]\n",
        "TP = cm[1][1]\n",
        "\n",
        "# Calculamos las métricas\n",
        "accuracy = (TP + TN) / (TP + TN + FP + FN)\n",
        "precision = TP / (TP + FP)\n",
        "recall = TP / (TP + FN)\n",
        "f1_score = 2 * (precision * recall) / (precision + recall)\n",
        "\n",
        "# Imprimimos los índices\n",
        "print(\"-----------------------------------------------------------------------------\")\n",
        "print(\"Índices:\")\n",
        "print(\"-----------------------------------------------------------------------------\")\n",
        "print(\"Exactitud (Accuracy):\", accuracy)\n",
        "print(\"Calculo del Accuracy: = (TP + TN) / (TP + TN + FP + FN) == total de predicciones / todos los datos\")\n",
        "print (f'\\nNuestro modelo hizo una predicción correcta del {round(accuracy*100)}% sobre el total de datos')\n",
        "print(\"-----------------------------------------------------------------------------\")\n",
        "print(\"Precisión (Precision):\", precision)\n",
        "print(\"Calculo de precision: = TP / (TP + FP)\")\n",
        "\n",
        "print(\"\\nLa precisión es el porcentaje de predicciones positivas del modelo que son correctas\")\n",
        "print(\"Es una medida de qué tan preciso es el modelo con sus predicciones positivas.\")\n",
        "print (f'\\nNuestro modelo tiene una predicción correcta del {round(precision*100)}% sobre el total de datos positivos')\n",
        "print(\"-----------------------------------------------------------------------------\")\n",
        "print(\"Recall (Sensibilidad):\", recall)\n",
        "print(\"Calculo de Recall: = TP / (TP + FN)\")\n",
        "print(\"\\nRecall es el porcentaje de casos positivos que el modelo predice correctamente.\")\n",
        "print (f'\\nNuestro modelo predijo correctamente el {round(recall*100)}% de los datos positivos')\n",
        "print(\"-----------------------------------------------------------------------------\")\n",
        "print(\"F1-Score:\", f1_score)\n",
        "print(\"Calculo del F1_Score = 2 * (precision * recall) / (precision + recall)\")\n",
        "\n",
        "print(\"\\nF1-Score es un promedio entre precision y recall para que tengamos una puntuación única para nuestro modelo.\")\n",
        "print(\"F1-Score es la media armónica de los valores de precision y recall.\")\n",
        "print (f'\\nNuestro modelo predijo un F1-Score del {round(f1_score*100)}%')\n",
        "print(\"-----------------------------------------------------------------------------\")\n"
      ],
      "metadata": {
        "colab": {
          "base_uri": "https://localhost:8080/"
        },
        "id": "WVTW7plBit6B",
        "outputId": "e34a2104-dc88-4155-a1eb-7bbc33712734"
      },
      "execution_count": null,
      "outputs": [
        {
          "output_type": "stream",
          "name": "stdout",
          "text": [
            "Matriz de Confusión:\n",
            "[[364  60]\n",
            " [ 81 209]]\n",
            "-----------------------------------------------------------------------------\n",
            "Índices:\n",
            "-----------------------------------------------------------------------------\n",
            "Exactitud (Accuracy): 0.8025210084033614\n",
            "Calculo del Accuracy: = (TP + TN) / (TP + TN + FP + FN) == total de predicciones / todos los datos\n",
            "\n",
            "Nuestro modelo hizo una predicción correcta del 80% sobre el total de datos\n",
            "-----------------------------------------------------------------------------\n",
            "Precisión (Precision): 0.7769516728624535\n",
            "Calculo de precision: = TP / (TP + FP)\n",
            "\n",
            "La precisión es el porcentaje de predicciones positivas del modelo que son correctas\n",
            "Es una medida de qué tan preciso es el modelo con sus predicciones positivas.\n",
            "\n",
            "Nuestro modelo tiene una precisión del 78% sobre el total de datos positivos\n",
            "-----------------------------------------------------------------------------\n",
            "Recall (Sensibilidad): 0.7206896551724138\n",
            "Calculo de Recall: = TP / (TP + FN)\n",
            "\n",
            "Recall es el porcentaje de casos positivos que el modelo predice correctamente.\n",
            "\n",
            "Nuestro modelo predijo correctamente el 72% de los datos positivos\n",
            "-----------------------------------------------------------------------------\n",
            "F1-Score: 0.7477638640429337\n",
            "Calculo del F1_Score = 2 * (precision * recall) / (precision + recall)\n",
            "\n",
            "F1-Score es un promedio entre precision y recall para que tengamos una puntuación única para nuestro modelo.\n",
            "F1-Score es la media armónica de los valores de precision y recall.\n",
            "\n",
            "Nuestro modelo predijo un F1-Score del 75%\n",
            "-----------------------------------------------------------------------------\n"
          ]
        }
      ]
    },
    {
      "cell_type": "code",
      "source": [
        "import numpy as np\n",
        "import matplotlib.pyplot as plt\n",
        "import seaborn as sns\n",
        "from sklearn.metrics import confusion_matrix\n",
        "\n",
        "# Supongamos que y y y_pred son arrays de predicciones\n",
        "# Generemos valores de ejemplo\n",
        "#y = np.random.randint(0, 2, size=100)\n",
        "#y_pred = np.random.randint(0, 2, size=100)\n",
        "\n",
        "# Calculamos la matriz de confusión\n",
        "cm = confusion_matrix(y, y_pred)\n",
        "\n",
        "# Definimos las etiquetas de las clases\n",
        "classes = ['Clase 0', 'Clase 1']\n",
        "\n",
        "# Creamos el heatmap\n",
        "plt.figure(figsize=(6, 4))\n",
        "sns.set(font_scale=1.2)  # Ajustamos el tamaño de la fuente\n",
        "sns.heatmap(cm, annot=True, fmt='d', cmap='Blues', xticklabels=classes, yticklabels=classes, cbar=False)\n",
        "plt.xlabel('Valores Predichos')\n",
        "plt.ylabel('Valores Reales')\n",
        "plt.title('Matriz de Confusión')\n",
        "plt.show()\n"
      ],
      "metadata": {
        "colab": {
          "base_uri": "https://localhost:8080/",
          "height": 424
        },
        "id": "CV-N_XLRkHgv",
        "outputId": "98fb74c7-fe7e-4584-c46f-93359344cd81"
      },
      "execution_count": null,
      "outputs": [
        {
          "output_type": "display_data",
          "data": {
            "text/plain": [
              "<Figure size 600x400 with 1 Axes>"
            ],
            "image/png": "[encoded data removed]"
          },
          "metadata": {}
        }
      ]
    },
    {
      "cell_type": "markdown",
      "source": [
        "\n",
        "\n",
        "---\n",
        "\n"
      ],
      "metadata": {
        "id": "Fbobeb1Hy_UO"
      }
    },
    {
      "cell_type": "markdown",
      "source": [
        "##Lidiando con el Overfitting:"
      ],
      "metadata": {
        "id": "z-E51XlwyzBy"
      }
    },
    {
      "cell_type": "markdown",
      "source": [
        "**Overfitting** es cuando nos desempeñamos bien con los datos que el modelo ya ha visto, pero no nos desempeñamos bien con los datos nuevos.\n",
        "\n",
        "Creamos un modelo con todos nuestros datos y luego vimos qué tan bien funcionó con los mismos datos.\n",
        "\n",
        "Esto está inflando artificialmente nuestros números ya que nuestro modelo, de hecho, pudo ver las respuestas del cuestionario antes de que se lo entregáramos."
      ],
      "metadata": {
        "id": "LpG3ZQHCRaHx"
      }
    },
    {
      "cell_type": "markdown",
      "source": [
        "## Training Set & Test Set"
      ],
      "metadata": {
        "id": "ugtWpDJqTR7X"
      }
    },
    {
      "cell_type": "markdown",
      "source": [
        "Para darle a un modelo una evaluación justa, nos gustaría saber qué tan bien se desempeñaría nuestro modelo con datos que aún no ha visto.\n",
        "\n",
        "**Para simular la realización de predicciones sobre nuevos datos que el modelo no ha visto, podemos dividir nuestro conjunto de datos en un conjunto de entrenamiento y un conjunto de prueba.**\n",
        "\n",
        "Porl lo tanto el set de datos de entrenamiento: **(training set)** es usado para construir el modelo.\n",
        "\n",
        "El set de datos de prueba **(test set)**  será usado para evaluar el rendimiento de nuestro modelo.\n",
        "\n",
        "Dividimos nuestros datos antes de construir el modelo, por lo que el modelo no tiene conocimiento del conjunto de prueba y le daremos una evaluación justa.\n",
        "\n",
        "**Si nuestro conjunto de datos tiene 200 puntos de datos, dividirlo en un conjunto de entrenamiento y un conjunto de prueba podría verse de la siguiente manera.**"
      ],
      "metadata": {
        "id": "hPy0pDZ7TSyJ"
      }
    },
    {
      "cell_type": "markdown",
      "source": [
        "![image.png](data:image/png;base64,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)"
      ],
      "metadata": {
        "id": "yu3YK3l7T3O3"
      }
    },
    {
      "cell_type": "markdown",
      "source": [
        "* Un esquema estándar es colocar:\n",
        "  * entre el **70% y el 80% de nuestros datos en el conjunto de entrenamiento** y,\n",
        "  * entre el **20% y el 30% en el conjunto de prueba**.\n",
        "\n",
        "* Usar menos datos en el conjunto de entrenamiento significa que nuestro modelo no tendrá tantos datos de los cuales aprender, por lo que queremos darle la mayor cantidad posible y dejar suficiente para la evaluación."
      ],
      "metadata": {
        "id": "BVIvjsn_R_f9"
      }
    },
    {
      "cell_type": "markdown",
      "source": [
        "## Training & Testing utilizando Sklearn:"
      ],
      "metadata": {
        "id": "0FBiQmufUemN"
      }
    },
    {
      "cell_type": "markdown",
      "source": [
        "* **Scikit-learn** tiene una función integrada para dividir los datos en un conjunto de entrenamiento y un conjunto de prueba.\n",
        "\n",
        "* Suponiendo que tenemos una matriz numpy bidimensional **X** con nuestras features y una matriz numpy unidimensional **y** con la variable objetivo, podemos usar la función **train_test_split**.\n",
        "\n",
        "* La misma colocará aleatoriamente cada punto de datos en el conjunto de entrenamiento o en el conjunto de prueba.\n",
        "\n",
        "**Por defecto:**\n",
        "  * el conjunto de entrenamiento es el 75% de los datos y\n",
        "  * el conjunto de prueba es el 25% restante de los datos."
      ],
      "metadata": {
        "id": "h_Arvqn1y9x5"
      }
    },
    {
      "cell_type": "code",
      "source": [
        "import pandas as pd\n",
        "from sklearn.linear_model import LogisticRegression\n",
        "from sklearn.metrics import accuracy_score, precision_score, recall_score, f1_score\n",
        "from sklearn.model_selection import train_test_split\n",
        "\n",
        "df = pd.read_csv('/content/gdrive/MyDrive/Colab Notebooks/Data Science/data/titanic_train_del_NAN.csv')\n",
        "\n",
        "df['male'] = df['Sex'] == 'male'\n",
        "X = df[['Pclass', 'male', 'Age', 'SibSp', 'Parch', 'Fare']].values\n",
        "y = df['Survived'].values\n",
        "\n",
        "X_train, X_test, y_train, y_test = train_test_split(X, y)\n",
        "# Podemos cambiar el tamaño de nuestro conjunto de entrenamiento usando el parámetro train_size.\n",
        "# P.ej. train_test_split(X, y, train_size=0.6) colocaría el 60% de los datos en el conjunto de entrenamiento y el 40% en el conjunto de prueba.\n",
        "\n",
        "# Usemos el atributo de .shape para ver los tamaños de nuestros conjuntos de datos\n",
        "print(\"whole dataset:\", X.shape, y.shape)\n",
        "print(\"training set:\", X_train.shape, y_train.shape)\n",
        "print(\"test set:\", X_test.shape, y_test.shape)\n"
      ],
      "metadata": {
        "colab": {
          "base_uri": "https://localhost:8080/"
        },
        "id": "hTjTPgk6TcAb",
        "outputId": "5513116d-7c2c-45a6-c99c-674a1372b4f3"
      },
      "execution_count": null,
      "outputs": [
        {
          "output_type": "stream",
          "name": "stdout",
          "text": [
            "whole dataset: (714, 6) (714,)\n",
            "training set: (535, 6) (535,)\n",
            "test set: (179, 6) (179,)\n"
          ]
        }
      ]
    },
    {
      "cell_type": "markdown",
      "source": [
        "## Construimos el modelo con Scikit-learn y regresión logística utilizando el set de entrenamiento:"
      ],
      "metadata": {
        "id": "jEwylChEHPxx"
      }
    },
    {
      "cell_type": "code",
      "source": [
        "# building the model\n",
        "model = LogisticRegression()\n",
        "model.fit(X_train, y_train)"
      ],
      "metadata": {
        "colab": {
          "base_uri": "https://localhost:8080/",
          "height": 75
        },
        "id": "U7oZUvQgIDKP",
        "outputId": "94aace18-80dd-4843-a377-261f7f8c8829"
      },
      "execution_count": null,
      "outputs": [
        {
          "output_type": "execute_result",
          "data": {
            "text/plain": [
              "LogisticRegression()"
            ],
            "text/html": [
              "<style>#sk-container-id-3 {color: black;background-color: white;}#sk-container-id-3 pre{padding: 0;}#sk-container-id-3 div.sk-toggleable {background-color: white;}#sk-container-id-3 label.sk-toggleable__label {cursor: pointer;display: block;width: 100%;margin-bottom: 0;padding: 0.3em;box-sizing: border-box;text-align: center;}#sk-container-id-3 label.sk-toggleable__label-arrow:before {content: \"▸\";float: left;margin-right: 0.25em;color: #696969;}#sk-container-id-3 label.sk-toggleable__label-arrow:hover:before {color: black;}#sk-container-id-3 div.sk-estimator:hover label.sk-toggleable__label-arrow:before {color: black;}#sk-container-id-3 div.sk-toggleable__content {max-height: 0;max-width: 0;overflow: hidden;text-align: left;background-color: #f0f8ff;}#sk-container-id-3 div.sk-toggleable__content pre {margin: 0.2em;color: black;border-radius: 0.25em;background-color: #f0f8ff;}#sk-container-id-3 input.sk-toggleable__control:checked~div.sk-toggleable__content {max-height: 200px;max-width: 100%;overflow: auto;}#sk-container-id-3 input.sk-toggleable__control:checked~label.sk-toggleable__label-arrow:before {content: \"▾\";}#sk-container-id-3 div.sk-estimator input.sk-toggleable__control:checked~label.sk-toggleable__label {background-color: #d4ebff;}#sk-container-id-3 div.sk-label input.sk-toggleable__control:checked~label.sk-toggleable__label {background-color: #d4ebff;}#sk-container-id-3 input.sk-hidden--visually {border: 0;clip: rect(1px 1px 1px 1px);clip: rect(1px, 1px, 1px, 1px);height: 1px;margin: -1px;overflow: hidden;padding: 0;position: absolute;width: 1px;}#sk-container-id-3 div.sk-estimator {font-family: monospace;background-color: #f0f8ff;border: 1px dotted black;border-radius: 0.25em;box-sizing: border-box;margin-bottom: 0.5em;}#sk-container-id-3 div.sk-estimator:hover {background-color: #d4ebff;}#sk-container-id-3 div.sk-parallel-item::after {content: \"\";width: 100%;border-bottom: 1px solid gray;flex-grow: 1;}#sk-container-id-3 div.sk-label:hover label.sk-toggleable__label {background-color: #d4ebff;}#sk-container-id-3 div.sk-serial::before {content: \"\";position: absolute;border-left: 1px solid gray;box-sizing: border-box;top: 0;bottom: 0;left: 50%;z-index: 0;}#sk-container-id-3 div.sk-serial {display: flex;flex-direction: column;align-items: center;background-color: white;padding-right: 0.2em;padding-left: 0.2em;position: relative;}#sk-container-id-3 div.sk-item {position: relative;z-index: 1;}#sk-container-id-3 div.sk-parallel {display: flex;align-items: stretch;justify-content: center;background-color: white;position: relative;}#sk-container-id-3 div.sk-item::before, #sk-container-id-3 div.sk-parallel-item::before {content: \"\";position: absolute;border-left: 1px solid gray;box-sizing: border-box;top: 0;bottom: 0;left: 50%;z-index: -1;}#sk-container-id-3 div.sk-parallel-item {display: flex;flex-direction: column;z-index: 1;position: relative;background-color: white;}#sk-container-id-3 div.sk-parallel-item:first-child::after {align-self: flex-end;width: 50%;}#sk-container-id-3 div.sk-parallel-item:last-child::after {align-self: flex-start;width: 50%;}#sk-container-id-3 div.sk-parallel-item:only-child::after {width: 0;}#sk-container-id-3 div.sk-dashed-wrapped {border: 1px dashed gray;margin: 0 0.4em 0.5em 0.4em;box-sizing: border-box;padding-bottom: 0.4em;background-color: white;}#sk-container-id-3 div.sk-label label {font-family: monospace;font-weight: bold;display: inline-block;line-height: 1.2em;}#sk-container-id-3 div.sk-label-container {text-align: center;}#sk-container-id-3 div.sk-container {/* jupyter's `normalize.less` sets `[hidden] { display: none; }` but bootstrap.min.css set `[hidden] { display: none !important; }` so we also need the `!important` here to be able to override the default hidden behavior on the sphinx rendered scikit-learn.org. See: https://github.com/scikit-learn/scikit-learn/issues/21755 */display: inline-block !important;position: relative;}#sk-container-id-3 div.sk-text-repr-fallback {display: none;}</style><div id=\"sk-container-id-3\" class=\"sk-top-container\"><div class=\"sk-text-repr-fallback\"><pre>LogisticRegression()</pre><b>In a Jupyter environment, please rerun this cell to show the HTML representation or trust the notebook. <br />On GitHub, the HTML representation is unable to render, please try loading this page with nbviewer.org.</b></div><div class=\"sk-container\" hidden><div class=\"sk-item\"><div class=\"sk-estimator sk-toggleable\"><input class=\"sk-toggleable__control sk-hidden--visually\" id=\"sk-estimator-id-3\" type=\"checkbox\" checked><label for=\"sk-estimator-id-3\" class=\"sk-toggleable__label sk-toggleable__label-arrow\">LogisticRegression</label><div class=\"sk-toggleable__content\"><pre>LogisticRegression()</pre></div></div></div></div></div>"
            ]
          },
          "metadata": {},
          "execution_count": 18
        }
      ]
    },
    {
      "cell_type": "markdown",
      "source": [
        "## Evaluamos el modelo utilizando el conjunto de prueba."
      ],
      "metadata": {
        "id": "A1KtzjzTYBRX"
      }
    },
    {
      "cell_type": "code",
      "source": [
        "# evaluating the model\n",
        "print(\"accuracy:\", model.score(X_test, y_test))"
      ],
      "metadata": {
        "colab": {
          "base_uri": "https://localhost:8080/"
        },
        "id": "m-3EMiUYIeOL",
        "outputId": "e8f293d8-eb5b-4702-bc87-0c064780cc35"
      },
      "execution_count": null,
      "outputs": [
        {
          "output_type": "stream",
          "name": "stdout",
          "text": [
            "accuracy: 0.8100558659217877\n"
          ]
        }
      ]
    },
    {
      "cell_type": "markdown",
      "source": [
        "* De hecho, todas las métricas que calculamos en las partes anteriores deben calcularse en el conjunto de prueba.\n",
        "\n",
        "* Nuestros valores de exactitud, precisión, recuperación y puntuación F1 son en realidad muy similares a los valores cuando utilizamos todo el conjunto de datos."
      ],
      "metadata": {
        "id": "EXHsv0PGYSsM"
      }
    },
    {
      "cell_type": "code",
      "source": [
        "y_pred = model.predict(X_test)\n",
        "print(\"accuracy:\", accuracy_score(y_test, y_pred))\n",
        "print(\"precision:\", precision_score(y_test, y_pred))\n",
        "print(\"recall:\", recall_score(y_test, y_pred))\n",
        "print(\"f1 score:\", f1_score(y_test, y_pred))"
      ],
      "metadata": {
        "colab": {
          "base_uri": "https://localhost:8080/"
        },
        "id": "GbgtYqGIYC1J",
        "outputId": "97d68470-4843-4635-d4bb-743f8a0d327b"
      },
      "execution_count": null,
      "outputs": [
        {
          "output_type": "stream",
          "name": "stdout",
          "text": [
            "accuracy: 0.8100558659217877\n",
            "precision: 0.7647058823529411\n",
            "recall: 0.7428571428571429\n",
            "f1 score: 0.7536231884057971\n"
          ]
        }
      ]
    },
    {
      "cell_type": "markdown",
      "source": [
        "* Si ejecutamos todo el código anterior (desde el principio), notarmos que obtiene puntuaciones diferentes cada vez.\n",
        "\n",
        "* Esto se debe a que la división entre prueba y entrenamiento se realiza de forma aleatoria y, dependiendo de qué puntos aparezcan en el conjunto de entrenamiento y en la prueba, las puntuaciones serán diferentes.\n",
        "\n",
        "###Usando random_state:\n",
        "\n",
        "* Como notamos en la parte anterior, cuando dividimos aleatoriamente los datos en un conjunto de entrenamiento y un conjunto de prueba, terminamos con diferentes datapoints en cada conjunto, cada vez que ejecutamos el código.\n",
        "\n",
        "* Esto es el resultado de la aleatoriedad y necesitamos que sea aleatorio para que sea efectivo, pero esto a veces puede dificultar la prueba de nuestro código.\n",
        "\n",
        "* Para obtener la misma división cada vez que ejecutamos, podemos usar el atributo **random_state**.\n",
        "\n",
        "* Elegimos un número arbitrario para darle y luego, cada vez que ejecutamos el código, obtendremos la misma división.\n",
        "\n",
        "\n"
      ],
      "metadata": {
        "id": "8ll1hgDtY4tt"
      }
    },
    {
      "cell_type": "code",
      "source": [
        "# vemos un ejemplo:\n",
        "\n",
        "from sklearn.model_selection import train_test_split\n",
        "\n",
        "X = [[1, 1], [2, 2], [3, 3], [4, 4]]\n",
        "y = [0, 0, 1, 1]\n",
        "\n",
        "# Para obtener la misma división cada vez, podemos usar el atributo random_state:\n",
        "X_train, X_test, y_train, y_test = train_test_split(X, y, random_state=27)\n",
        "print('X_train', X_train)\n",
        "print('X_test', X_test)"
      ],
      "metadata": {
        "colab": {
          "base_uri": "https://localhost:8080/"
        },
        "id": "Xrhwqz7_ZWb0",
        "outputId": "f08b5113-2aa4-4379-8029-bd4f6420624f"
      },
      "execution_count": null,
      "outputs": [
        {
          "output_type": "stream",
          "name": "stdout",
          "text": [
            "X_train [[3, 3], [1, 1], [4, 4]]\n",
            "X_test [[2, 2]]\n"
          ]
        }
      ]
    },
    {
      "cell_type": "markdown",
      "source": [
        "###random_state es también conocido como **seed**."
      ],
      "metadata": {
        "id": "0mFT66nHax5Z"
      }
    },
    {
      "cell_type": "markdown",
      "source": [
        "\n",
        "\n",
        "---\n",
        "\n"
      ],
      "metadata": {
        "id": "WWzEdS9vco9b"
      }
    },
    {
      "cell_type": "markdown",
      "source": [
        "## Sensibilidad & Especificidad:"
      ],
      "metadata": {
        "id": "-KSsm7BKcQ8A"
      }
    },
    {
      "cell_type": "markdown",
      "source": [
        "* Una **Curva ROC** (Receiver operating characteristic) es un gráfico de la sensibilidad frente a la especificidad.\n",
        "\n",
        "* La **Sensibilidad (recall) es la tasa de verdaderos positivos**.\n",
        "  * Sensitivity (TP / TP + FN)\n",
        "\n",
        "* La **Especificidad es la tasa de verdaderos negativos**.\n",
        "  * Specificity (TN / TN + FP)\n"
      ],
      "metadata": {
        "id": "RN25jPq-dNrX"
      }
    },
    {
      "cell_type": "markdown",
      "source": [
        "## Sensibilidad & Especificidad con Scikit-learn:\n"
      ],
      "metadata": {
        "id": "gFD87x4D6gc2"
      }
    },
    {
      "cell_type": "code",
      "source": [
        "import pandas as pd\n",
        "from sklearn.linear_model import LogisticRegression\n",
        "from sklearn.model_selection import train_test_split\n",
        "from sklearn.metrics import recall_score, precision_recall_fscore_support\n",
        "\n",
        "# Sensitivity is the same as recall, so it is easy to define.\n",
        "sensitivity_score = recall_score\n",
        "def specificity_score(y_true, y_pred):\n",
        "    p, r, f, s = precision_recall_fscore_support(y_true, y_pred)\n",
        "    return r[0]\n",
        "\n",
        "#df = pd.read_csv('/drive/MyDrive/Colab Notebooks/Data Science/data/titanic_train_del_NAN.csv')\n",
        "df['male'] = df['Sex'] == 'male'\n",
        "X = df[['Pclass', 'male', 'Age', 'SibSp', 'Parch', 'Fare']].values\n",
        "y = df['Survived'].values\n",
        "\n",
        "# we use a random state in the train test split so that every time you run the code you will get the same results.\n",
        "X_train, X_test, y_train, y_test = train_test_split(X, y, random_state=5)\n",
        "\n",
        "model = LogisticRegression()\n",
        "model.fit(X_train, y_train)\n",
        "y_pred = model.predict(X_test)\n",
        "\n",
        "print(\"sensitivity:\", sensitivity_score(y_test, y_pred))\n",
        "print(\"specificity:\", specificity_score(y_test, y_pred))"
      ],
      "metadata": {
        "colab": {
          "base_uri": "https://localhost:8080/"
        },
        "id": "1Hrzw00q6gxj",
        "outputId": "acf989e5-bc15-4e6c-ff79-d422db06b7fb"
      },
      "execution_count": null,
      "outputs": [
        {
          "output_type": "stream",
          "name": "stdout",
          "text": [
            "sensitivity: 0.647887323943662\n",
            "specificity: 0.8148148148148148\n"
          ]
        }
      ]
    },
    {
      "cell_type": "markdown",
      "source": [
        "## La curva ROC (Receiver operating characteristic):"
      ],
      "metadata": {
        "id": "r10wlQ3KlN1c"
      }
    },
    {
      "cell_type": "markdown",
      "source": [
        "\n",
        "* La curva ROC muestra el rendimiento, no de un solo modelo, sino de muchos modelos.\n",
        "\n",
        "* Cuanto más se acerque la curva a la esquina superior izquierda, mejor será el rendimiento.\n",
        "\n",
        "* La línea nunca debe caer por debajo de la línea diagonal, ya que eso significaría que su rendimiento es peor que un modelo aleatorio.\n",
        "\n",
        "* Scikit-learn tiene una función **roc_curve** que podemos usar.\n",
        "\n",
        "* La función toma los valores objetivo verdaderos y las probabilidades predichas de nuestro modelo.\n",
        "\n",
        "* Usamos el método **predict_proba** en el modelo para obtener las probabilidades.\n",
        "\n",
        "* Luego llamamos a la función roc_curve.\n",
        "\n",
        "* La función roc_curve devuelve una matriz de tasas de falsos positivos, una matriz de tasas de verdaderos positivos y los umbrales.\n",
        "\n",
        "  * La tasa de falsos positivos es **1-especificidad (eje x)**,\n",
        "  * la tasa de verdaderos positivos es la **sensibilidad (eje y)**.\n"
      ],
      "metadata": {
        "id": "F5JfJfvlg7KP"
      }
    },
    {
      "cell_type": "code",
      "source": [
        "import pandas as pd\n",
        "from sklearn.linear_model import LogisticRegression\n",
        "from sklearn.metrics import roc_auc_score\n",
        "from sklearn.model_selection import train_test_split\n",
        "\n",
        "# df = pd.read_csv('/drive/MyDrive/Colab Notebooks/Data Science/data/titanic_train_del_NAN.csv')\n",
        "df['male'] = df['Sex'] == 'male'\n",
        "X = df[['Pclass', 'male', 'Age', 'SibSp', 'Parch', 'Fare']].values\n",
        "y = df['Survived'].values\n",
        "\n",
        "X_train, X_test, y_train, y_test = train_test_split(X, y)\n",
        "\n",
        "model1 = LogisticRegression()\n",
        "model1.fit(X_train, y_train)\n",
        "y_pred_proba1 = model1.predict_proba(X_test)\n",
        "print(\"model 1 AUC score:\", roc_auc_score(y_test, y_pred_proba1[:, 1]))\n",
        "\n",
        "model2 = LogisticRegression()\n",
        "model2.fit(X_train[:, 0:2], y_train)\n",
        "y_pred_proba2 = model2.predict_proba(X_test[:, 0:2])\n",
        "print(\"model 2 AUC score:\", roc_auc_score(y_test, y_pred_proba2[:, 1]))\n",
        "\n",
        "# Setting the threshold to 0.5 we would get the original Logistic Regression model.\n",
        "# Any other threshold value yields an alternative model.\n",
        "# y_pred = model.predict_proba(X_test)[:, 1] > 0.75\n",
        "\n"
      ],
      "metadata": {
        "colab": {
          "base_uri": "https://localhost:8080/"
        },
        "id": "ILeTZQgDzDTM",
        "outputId": "1d173006-9f85-4882-d11a-81f3606de84c"
      },
      "execution_count": null,
      "outputs": [
        {
          "output_type": "stream",
          "name": "stdout",
          "text": [
            "model 1 AUC score: 0.8299077733860342\n",
            "model 2 AUC score: 0.8048089591567853\n"
          ]
        }
      ]
    },
    {
      "cell_type": "markdown",
      "source": [
        "## Utilizamos matplotlib para generar las curvas ROC de los 2 modelos:"
      ],
      "metadata": {
        "id": "Tlluw2W6kV-l"
      }
    },
    {
      "cell_type": "code",
      "source": [
        "import pandas as pd\n",
        "from sklearn.linear_model import LogisticRegression\n",
        "from sklearn.metrics import roc_auc_score, roc_curve\n",
        "from sklearn.model_selection import train_test_split\n",
        "import matplotlib.pyplot as plt\n",
        "\n",
        "# df = pd.read_csv('/drive/MyDrive/Colab Notebooks/Data Science/data/titanic_train_del_NAN.csv')\n",
        "\n",
        "df['male'] = df['Sex'] == 'male'\n",
        "X = df[['Pclass', 'male', 'Age', 'SibSp', 'Parch', 'Fare']].values\n",
        "y = df['Survived'].values\n",
        "\n",
        "X_train, X_test, y_train, y_test = train_test_split(X, y)\n",
        "\n",
        "model1 = LogisticRegression()\n",
        "model1.fit(X_train, y_train)\n",
        "y_pred_proba1 = model1.predict_proba(X_test)\n",
        "auc1 = roc_auc_score(y_test, y_pred_proba1[:, 1])\n",
        "print(\"model 1 AUC score:\", auc1)\n",
        "\n",
        "model2 = LogisticRegression()\n",
        "model2.fit(X_train[:, 0:2], y_train)\n",
        "y_pred_proba2 = model2.predict_proba(X_test[:, 0:2])\n",
        "auc2 = roc_auc_score(y_test, y_pred_proba2[:, 1])\n",
        "print(\"model 2 AUC score:\", auc2)\n",
        "\n",
        "# Calculamos la curva ROC para model1\n",
        "fpr1, tpr1, _ = roc_curve(y_test, y_pred_proba1[:, 1])\n",
        "\n",
        "# Calculamos la curva ROC para model2\n",
        "fpr2, tpr2, _ = roc_curve(y_test, y_pred_proba2[:, 1])\n",
        "\n",
        "# Graficamos las curvas ROC\n",
        "plt.figure(figsize=(8, 6))\n",
        "plt.plot(fpr1, tpr1, label='Modelo 1 (AUC = %0.2f)' % auc1)\n",
        "plt.plot(fpr2, tpr2, label='Modelo 2 (AUC = %0.2f)' % auc2)\n",
        "plt.plot([0, 1], [0, 1], 'k--')\n",
        "plt.xlim([0.0, 1.0])\n",
        "plt.ylim([0.0, 1.05])\n",
        "plt.xlabel('Tasa de Falsos Positivos (FPR)')\n",
        "plt.ylabel('Tasa de Verdaderos Positivos (TPR)')\n",
        "plt.title('Curvas ROC')\n",
        "plt.legend(loc=\"lower right\")\n",
        "plt.show()\n"
      ],
      "metadata": {
        "colab": {
          "base_uri": "https://localhost:8080/",
          "height": 599
        },
        "id": "gPZJOEdxkKR3",
        "outputId": "2c5ad163-e36a-4ce7-878e-183639399fce"
      },
      "execution_count": null,
      "outputs": [
        {
          "output_type": "stream",
          "name": "stdout",
          "text": [
            "model 1 AUC score: 0.8423067269076305\n",
            "model 2 AUC score: 0.8226656626506024\n"
          ]
        },
        {
          "output_type": "display_data",
          "data": {
            "text/plain": [
              "<Figure size 800x600 with 1 Axes>"
            ],
            "image/png": "[encoded data removed]"
          },
          "metadata": {}
        }
      ]
    },
    {
      "cell_type": "markdown",
      "source": [
        "\n",
        "\n",
        "---\n",
        "\n"
      ],
      "metadata": {
        "id": "UOJYnB3Duu--"
      }
    },
    {
      "cell_type": "markdown",
      "source": [
        "### Múltiples Training & Test Sets:\n",
        "En lugar de simplemente tomar una parte de los datos como conjunto de prueba, dividamos nuestro conjunto de datos en 5 partes.\n",
        "\n",
        "Cada uno de estos 5 fragmentos servirá como conjunto de prueba.\n",
        "\n",
        "Cuando el fragmento 1 es el conjunto de prueba, utilizamos los 4 fragmentos restantes como conjunto de entrenamiento.\n",
        "\n",
        "Así tenemos 5 conjuntos de entrenamiento y prueba de la siguiente manera:"
      ],
      "metadata": {
        "id": "IenMH0fSC7yy"
      }
    },
    {
      "cell_type": "markdown",
      "source": [
        "![image.png](data:image/png;base64,iVBORw0KGgoAAAANSUhEUgAAAgQAAAD0CAIAAABrbanxAAAecElEQVR4Ae2dsY4Ty9KA2++x0urIT7EkbIDWLwAhRARsAjEiRFpwjjY7EK02QkeCjOxoEZm1ARmSk5X8BJuu5F/31n9LrZ7pqdq12zPj/o6uuO122djfVNXn7rGHsOY/CEAAAhConkCongAAIAABCEBgjQxIAghAAAIQQAbkAAQgAAEIrJEBSQABCEAAAsiAHIAABCAAgfXmMgj8BwEIQAACIyEwmUxy5tv0BHII4frmlv91EABRBxy5C0QmouubWyiZlEIId6sF/+sgEEK252fvyNkjmSdBPQlqxlQeQBZ5EgBKJiVk0KEBuQsZ9Ll2oYY9NWzGEEAimTmADJBBn73ek6BmTOUBtDlPAkDJpIQMkAEyGDQBTw2bMQQgAzMHkAEyGHQrpIY9NWzGEEAimTmADJABMhg0AU8NmzEEIAMzB5ABMhh0K6SGPTVsxhBAIpk5gAyQATIYNAFPDZsxBCADMweQATIYdCukhj01bMYQQCKZOYAMkAEyGDQBTw2bMQQgAzMHkAEyGHQrpIY9NWzGEEAimTmADJABMhg0AU8NmzEEIAMzB5BBKRnM5/PT09PkYkTJzaIJ+ujxk9ZLAT56/MRMizhAnuT7z9/x5M7GIDJRF0V0fXNLIpmHYG8Qmd1w84CT46PWvnRyfLT5k5d+hodcm2g+n4cQkIFZRWZA0U63NzVsYtwkAEomvb1BVLqZ3q0WW5fByfHRxfnZDl753WpxbxlMp1NRX78y0Ax+9vxlCOHN2/c6M6JBURkoBxApio4BlDrgyF1jR7Sblip/y6sXT0MIH9693uQvFbUMVAaXl5ez2Wy9Xs9msyHLQHQluSsN9/PXH/HyTeUhk7JNJOOPn75o5OevP8wK2SSgRxnIewSRHr7WTgcl5XN9czt2RJv05fs+NieDeOmgz/nvP39rzwkhSPePI6eHBxpcbnDvlYGcGBiFDISvnEWIWctYGr2MYxkkkXExbH3cuwzkzYKou9NBSTK/QwajQFSujTafuVUG08ODpL3crRZ/fn1LJkMIf359Qwb3/upLR4Lqx/+kicse6MdPX+SfiAohxDKQR33/+VuOUNFzy73LAESaGySSosgNxo6o2bLLzTRlIB//9Uzyh3evZR9J5ls/+w96m0i/LzSKlUGzj8enwnIy0EcdHP4VQii6U9S7DPTNav3Xiah7ZQAlSY8OGYwCUbnW33zmpgyk+yeLgFcvnt6tFvGKIbYCMrjf4sCZoHIMJKe7Vwaa1rXJoGZEfhnUTGnstdZs2eVmnDLQhUKihPi0wUBPII90ZfDm7fsQwrPnL0UGUs+sDHR/7PrmtnJEThlUTskjgyEjKtf6m8/clMHF+VkIIe7+zUfdrRaygJAVAyuD7a8M4i8IiQlCCMgglkHliJwyqJySRwZDRtTafAtNNmWQfPaXRnRxfpZ8lUjn418txHtHhV7wQ35nMKJvE+mGj5a6rA/ka6ayUBD0EhmPr29ua9smklKvE5FmSHJGPUkJDauTkkcGQ0ZUro02n7lVBokPdP8n8UFzftAy0P2ijsFuzo7qmc8xDkBkHjUQmYjkS3GesJpjuDZR01jJzAN/Z9DhAL2LMjZrD0QgMgl4AkgkkxIySFp/8yYyuN8pCjPn7hVADZu4QGQiYmXgRNRsf8zEBJABMuiTgFnGyMBEhAyciOLGx7hJABn02QrpdGYZg8hEhAyciJrtj5mYADJABn0SMMsYGZiIkIETUdz4GDcJIIM+WyGdzixjEJmIkIETUbP9MRMTQAbIoE8CZhkjAxMRMnAiihsf4yYBZNBnK6TTmWUMIhMRMnAiarY/ZmICyAAZ9EnALGNkYCJCBk5EceNj3CSADPpshXQ6s4xBZCJCBk5EzfbHTEwAGSCDPgmYZYwMTETIwIkobnyMmwSQQZ+tkE5nljGITETIwImo2f6YiQkUlMFkMpGLPvInBCAAAQgMnMBkMtEryyWDkNzmJgQgAAEIVEgAGVR40HnLEIAABFICyCAlwm0IQAACFRJABhUedN4yBCAAgZQAMkiJcBsCEIBAhQSQQYUHnbcMAQhAICWADFIi3IYABCBQIQFkUOFB5y1DAAIQSAlsKoOB/8KClwcBCEAAAkqg4I/OuJCA+St5EIHIJOAJCCHE1xVg3CRArZmJVPByFND30DdjKg8gizwJgAya3T+ZIZHMREIGXKiuTwKeBDVjCEAGSetv3kQGZpkggz5bIQnqSVAzhgBk0Oz+yQy1ZpYJMkAGfRLwJKgZQwAySFp/8yYyMMsEGfTZCklQT4KaMQQgg2b3T2aoNbNMkAEy6JOAJ0HNGAKQQdL6mzeRgVkmyKDPVkiCehLUjCEAGTS7fzJDrZllggyQQZ8EPAlqxhCADJLW37yJDMwyQQZ9tkIS1JOgZgwByKDZ/ZMZas0sE2SADPok4ElQM4YAZJC0/uZNZGCWCTLosxWSoJ4ENWMIQAbN7p/MUGtmmdxbBnpVo45HyiXvoO+hb8ZUHkAWeRIAGSStv3mTRDITqaOlt1y1NIQwn8+l15+ennY8eL1eF6X/6PGTWEs6fvT4ifme4wB54Pefv+PJnY1BZKIuiuj65nZvEqnZ/rY+c3J8pIUWD06Oj7b+d239CYsm0t5kUXrp6v/dTmVwdXWVdP8QwuXl5f/i0/+Hfr+dbm8S1MS4ScDeUNp692w+4dZlcHJ8dHF+1vyLSszQjswySdp73NBTGcT3ybhHGegbe/b8ZQjhzdv3OjOiQdEEVQ4gUhQdg7FTKtFAc8/56sXTEMKHd69zAZ55Uct+yEDzauxZ1Gzy/9/qc3fI/OXlZQhhuVzmwnrsdLKGlQMjL+Pz1x/xwlblIZOyTSTjj5++aOTnrz/0MJcYgMikuhtE1ze3rWUsmTCKRPL0323F5GQQLx307/r3n7+1oEII0v3jyOnhgQaXG+wmkcaeRdlmnrtjvV4vl8v4/EFrZO/0JQXlLEKcjjKWRi/jWAZJpNmtNgkAkUlvN4i6ZSApMfBEKtdGm8/cKoPp4UFSO3erxZ9f35LJEMKfX98qlMEosqi1k//nBHDuDjHBbDbLBcj8bsq4Q8X68T/pOLJN/PHTl+ubWzlCsQzkUd9//o7vSp5hWzdBZJLcDaJuGYwikZotu9xMUwby8V/PJH9491r2kWS+9bN/PdtE0klGkUW5lt4uAzHB6elp7mE6v5sy7pBB8ztC8dnCnAz0UQeHf4UQiu4UgWgUMtCU0Fc7wEQq1/qbz9yUgXR/6Xr656sXT+9Wi3jFEFuhNhmMIou0eyeDFhnIF4o8Jij91VItS6cMJEHlUd0rAz1mtcmgZkTdKwNNCV1KDjCRmi273IxTBrpQSJQQnzao4QSyVNYosihxgN5MZeA5T6APHpQM3rx9H0J49vyl1LAcG1YGIQRN0MoROWUwZErlWn/zmZsyuDg/CyHE3b/5qLvVQhYQsmKodmUw5CyKG3g8TmUwn8+ljcZ/6m/Q4kfKeDh7IPEXhPTFI4NYBpUjcspgyJRam2+hyaYMks/+UmUX52fJV4l0/m610HPI8d5RoRd8t1rQjnQ3JTfY6HcGTQHEM8Ohr6Uu6wP5mqksFCQ75QNyPL6+ua1tm0g23OpEpBmSnOVLUkLDBkipXBttPnOrDBIf6P5P4oPmfG0yGHIWxQ08Hqcrg/g+z3g3MshZbhTzIDIPE4hMRHImo9mymYkJkEhmIo1+ZWC+wyEHkKDm0QGRiQgZxE0/NyaRzERCBlzCuk8CngQ1YwjgqqU5B+g8MjDLBBn02QpJUE+CmjEEIANt+rkBtWaWCTJABn0S8CSoGUMAMsg5QOeRgVkmyKDPVkiCehLUjCEAGWjTzw2oNbNMkAEy6JOAJ0HNGAKQQc4BOo8MzDJBBn22QhLUk6BmDAHIQJt+bkCtmWWCDJBBnwQ8CWrGEIAMcg7QeWRglgky6LMVkqCeBDVjCEAG2vRzA2rNLBNkgAz6JOBJUDOGAGSQc4DOIwOzTJBBn62QBPUkqBlDADLQpp8bUGtmmSADZNAnAU+CmjEEIIOcA3QeGZhlUlAGk8lELvrInxCAAAQgMHACk8kkdwXSTa9amnte5iEAAQhAYEQEkMGIDhYvFQIQgEApAsigFFmeFwIQgMCICCCDER0sXioEIACBUgSQQSmyPC8EIACBERFABiM6WLxUCEAAAqUIIINSZHleCEAAAiMigAxGdLB4qRCAAARKEdhUBgP/hQUvDwIQgAAElEDBH53x+2/P77/NmMoDuNCCXlChY0CtmWUCIg+i3MpiCysD86+vPIAENRMAGXQ4QO8ikTyJZMZUHlDw2kQkqJlbIPIg0pbHIEeARPIkkhlTeQAy6POandSwWX6sDHICiOdJJE8imTGVByADZNAnAbP8kEHc9HNjZOBJJDOm8gBk0GcrpIbN8kMGOQHE8ySSJ5HMmMoDkAEy6JOAWX7IIG76uTEy8CSSGVN5ADLosxVSw2b5IYOcAOJ5EsmTSGZM5QHIABn0ScAsP2QQN/3cGBl4EsmMqTwAGfTZCqlhs/yQQU4A8TyJ5EkkM6byAGSADPokYJYfMoibfm6MDDyJZMZUHoAM+myF1LBZfsggJ4B4nkTyJJIZU3nAvWUwm83kwkaz2Sx3IQuZJ0HN3AKRB1Hc9Ri3EiCRPIlkxlQecD8ZnJ6eqgNm//2vwwdFE/TR4yd6sb148Ojxk3sdUXns95+/7/WobQWDyCS5s5XByfFRnEg6Pjk+au2/g5okkTyJZMY8OGBv2lGun6cXqlsulyGEq6srecDV1VUIYblcZh8fwoPhmg/cG/rmO31wwN4g2k3b3boMTo6PLs7PdvPikYFZJiDyIMo289wdQ5CBvrFnz1+GEN68fa8zIxoUTVDlMHZEu+mn+re8evE0hPDh3WudecBA1LIfMtibRNI3Um4w9lrL9fx0ZZDETafT09PTZDK+2WOnkzW+HBh5GZ+//tCFfywPmZRtIhl//PRFIz9//VEub65vbkFk4t3ZNpF2/JwM4qWDBv/7z9+aLSEE6f5x5PTwQIPLDUgkTyKZMZsHtMpAMmQU7Shu4PE4K4PT01N5ex17ROv1uvcElRcpZxHiipWxNHoZxzJIIjfPj45nAFEHHLlrIDKYHh4kiXG3Wvz59S2ZDCH8+fWtQhkIB2qtQwajQBQLIB5nZSBBcgrh8vIyfkw87r3T5faOZDP946cv8tk8hBDLQB71/edvOXhFzy2DaBQykI//eib5w7vXso8k862f/evZJpIyodYkkztkMApEcQOPx4YM1uv16X//ix8Tj3vvdM0+Hp9TzclAH3Vw+FcIoehOEYhGIQPp/tL19M9XL57erRbxiiG2Qm0y0KrRA0qtKYrcx8oBIoobeDxOZdD8+tBsNus4bTCoTifHQw5P98pA07o2GQwWUbmt9tZnbp4zaJWBLhQSJcSnDWo4gdzsdINNJO3O5QYdKwNtLLohMcB2FAsgHqcyWK/X0+lUf2dweXnZ41dL9XB66L95+z6E8Oz5S3mUJCsrA90fu765HTKi1pZdbrIpg4vzsxBC3P1b/3ZxhqwYql0ZDDmRtGmUG4y9HcUCiMctMliv1/oL5G4TDOEEsqo4/oKQmCCEgAxiGQwZUWvnLTfZlEHy2V9S6OL8LPkqkc7frRZ6DjneOyr3moezCh9yIpVzgD6zRwZDRhQLIB63yyCO6B4PJ0Gvb27lIMn6QL5mKgsFKWDRRjy+vrmtbZtosIjK9dDWZ26VQeID3f9JfNCcr00G1Fr8zXWRRNJYhowo19LHIQN18hgHu/HlGMnoa979V0tbDTHwSRJJEyY3AFGOjM7f79pEOW+0zkNfKecGIMqR0Xlk4PEQiaQJkxuAKEdG55EBl7Duk4AmYm6ADJBBLjfuNY8MTFzIoM9WSIJ6EtTTDSuPIZE8iWTGVB6ADJBBnwTM8mNl4PEcMvAkkhlTeQAy6LMVUsNm+SEDZGAmiSeAWjMpIQNk0CcBT4J6umHlMXQ6TyKZMZUHIIM+WyE1bJYfKwOP50gkTyKZMZUHIANk0CcBs/yQATIwk8QTgC9NSsigz1ZIgnoS1NMNK48hkTyJZMZUHoAMkEGfBMzyY2Xg8Rwy8CSSGVN5ADLosxVSw2b5IQNkYCaJJ4BaMykhA2TQJwFPgnq6YeUxdDpPIpkxlQcggz5bITVslh8rA4/nSCRPIpkxlQcUlMFkMpFrt/InBCAAAQgMnMBkMmm95Oh//nGa3B3MQwACEIBAPQSQQT3HmncKAQhAIEsAGWTRcAcEIACBegggg3qONe8UAhCAQJYAMsii4Q4IQAAC9RBABvUca94pBCAAgSwBZJBFwx0QgAAE6iGADOo51rxTCEAAAlkCm8pg4L+w4OVBAAIQgIASKPijM34ib/66nWstmNdaIIvMLLq+uYWSSQlEHkS5pcEWVgbmX195ADJABlspATqdiRFEHkTIoLdr1SEDZGCWqCeATmdSApEHETJABguzKfcVQA2bNcw2EYg8BMyYglctpYw99PtqsmP5e8kiM4uQAYg8BMwYZNDbskBqeCxNua/XiQzMGkYGIPIQMGOQATIY7h7R3WqBDMwaRgYg8hAwY5ABMkAGfeaAWaKeAJRpUgKRBxEnkHvrBXybyNx9oobNGmZlACIPATOGlUFvJuCcgWkCtonMApYAlGmCApEHESuD3nzAysD0ATVs1jArAxB5CJgxD18ZhBAuLy9zJvnPv6EcgvnXVx6ADJDBVkqAWjMxgsiDKNfPuy5HMZvNkIEJ1wxABsjATBJPAJ3OpAQiD6J7y+Dy8nI6nfYrg0ePn+jF9uLBo8dPzPccB8hjv//8HU/ubLwbGZwcH8WIdHxyfGT24t4DStfw3iRSuaQFkcl2bxDdTwbL5TKEcHV1hQzMFDEDRiqDk+Oji/Oz3XgCGZhZVPqcwd50Og/Jh8XsDaL7yWA2m83nczklMIRzBs+evwwhvHn7/mFHsd9H7UYG2rVfvXgaQvjw7rXOPGAg64y9kYEmwNgTSd9IuQGITLZjR3QPGczn8+l0Kg/od2WgR6WVvuyEyF3y0fLz1x+6PRLLQyZlm0jGHz990cjPX3/oX1RiMBAZxPtIqod///lbOYQQpPvHkdPDAw0uNyi9MtDDOvZE0jdSbgAik+3YEXllIBtEy+VyLDKQXiZnEeK+JmNp9DKOZZBEmod/k4AhyGB6eJC85bvV4s+vb8lkCOHPr291ykBQDDyRNslD52M7Oh2IhOHYEXllMJ/Pmw1iNptlH7+Tr5Z20M/tHckG38dPX2SzNYQQy0Ae9f3nb3mzRc8t9y4D+fivZ5I/vHst+0gy3/rZv6ptIsmBUSSSs6FvEjb2WtvkvTsfO3ZE2Waeu0Pmh79N1Ozj8XmenAz0UQeHf4UQiu4U9S4D6f6J41+9eHq3WsQrhtgKFcpAU0I7wgATSV9buUFHpwORYB87olzP7/qdwcBPIDc/1MuMHLDulYGmdbUy0IVCooT4tEElJ5BHlEjlHKDP7Ox0g601fSPlBmNHtP8yePP2fQjh2fOXkgSSrKwM7laLi/OzEELc/VtPBcsCQlYMNa8MhpxI5RqcPrOn04Eo/n5K3HD0U+aQET1QBrmH6fxuvgfiSdD4C0JighACMpC+H28HCZyL87Pkq0Q6f7da6DnkeO+oVSFbmdxNFl3f3I49kbRllxuAyGQ7dkTavZOBsU2URDdv7qaMPfS11GV9IF8zlYWCtDmRdjy+vrmtYZuo6QPd/0l80JyvUAZDTiSzT20eMPZa25yA+QxjR9Rs4zIzDhmYh2fIATs+gbyVj+o7fpLdfKQYcpJ4XhuUTEog8iBCBlzCerj/2Bk1bNZw6ctReF7A8GNIJPMYPfwS1jmH6Dz0PfR3/EF7dH8dWWRmETIAkYeAGYMMelsWSA2Prjvv+AUjA7OGkQGIPATMGGSADIa7R8Q/e2kWsASgTBMUiDyIdF8nGXACubgnOIFsrjOoYbOGWRmAyEPAjGFlULzjdxwDZIAMOtLDfxfKNFmByIMoWRDoTVYGxT2BDJCBWaKeADqdSQlEHkTa/ZMBMkAG/Z9OoIbNGmabCEQeAmYM20TFO37HMWBlwMqgIz38d6FMkxWIPIiSBYHeZGVQ3BPIABmYJeoJoNOZlEDkQaTdPxkgA2TANlHxHDBL1BNApzMpgciDKHGA3kQGxRsBKwNWBmaJegLodCYlEHkQafdPBpvKYDKZyHVA+RMCEIAABAZOYDKZJA7Qm5vKQJ+IAQQgAAEIjJcAMhjvseOVQwACENgaAWSwNZQ8EQQgAIHxEkAG4z12vHIIQAACWyOADLaGkieCAAQgMF4CyGC8x45XDgEIQGBrBJDB1lDyRBCAAATGSwAZjPfY8cohAAEIbI3ApjIY+C8seHkQgAAEIKAECv7ojGstcK0F8xfwZgBXETARcQlrEHkImDFlL2FtdsPKA+h0ngQ1YwggkcwcAJEHUW5faQvbRJX3evPtk6CeBDVjCCCRzBwAkQcRMujtQs0kqCdBzRgCSCQzB0DkQYQMkEHxi3WbiZgLoIZzZOJ5KMU0WscgasUST3LOoDcT3K0WJGici61jELViSSahlABp3gRRk0kygwyQwXCXBXxPJinX3E06XY6MzoNIUeQGyAAZIINBE8iVbjxPp4tptI5B1IolnkQGyGDQrZAajss1N4ZSjozOg0hR5AbIABkgg0ETyJVuPE+ni2m0jkHUiiWeRAbIYNCtkBqOyzU3hlKOjM6DSFHkBveTwXK51AtZyGC5XGa/mhqC+aurygNI0Fxe6jyIFEXHAEodcOQuEHkQZZt5846rq6sOeyTxXJvIVB0J6klQM4YAEsnMARB5ECU9XG+2XI5iPp/PZjON6B7sRgYnx0fJYkVunhwfmb2494CiCfro8ZNWMo8ePzHTIg6QJ/n+83c8ubNxUUTXN7dQMg8liOpBlGvpLTI4/e9/uQck8yOVwcnx0cX52W48UbTTUcNmDSMDEHkImDF7U2tJD9ebLTKY/vc//bx5dXWl0c3BbmSgXfvVi6chhA/vXuvMAwayztgPGWgGP3v+MoTw5u17nRnRoKgvYw5Qimm0jkHUiiWeHDuiZhuXmRYZhBBOT0/l7svLyxBChw8GIoN4H0n18O8/f6vSQgjS/ePI6eGBBpcb7KbTtSaovH25S17G568/YiYqD5mUbSIZf/z0RSM/f/0RF8PWx7tBdH1zCyXz2IFo7xHdQwZJ6Gw2Uzckd63X6yHIYHp4oG1LBnerxZ9f35LJEMKfX98qlIFwkLMITSbS6GU+lkESaVbIJgFDkAGU5Ah2yABE+4Go2cZlpmVlkIR2n0LoXQby8V/PJH9491r2kWS+9bN/PdtEUr368T/p17IH+vHTF7k6UAghloE86vvP3/IkRc8tD0EGUDI7HYj2A1HS4fVmKgP5Xmn8w4LZbDafz/UByaB3GUj3l4alf7568fRutYhXDLEVapNBs4/Hp8JyMtBHHRz+FUIoulM0BBno+1Vl1kmpY2UAIlMGo0CU9HC9mcpgvV5Pp1P9aul8Pu/+zcEwZaALhUQJ8WmDGk4gNz/Uy4zkdPfKQNO6QhnUTMkpAxAl66QR1Zp2/2TQIgPxgby3bhMM4ZzBxflZCCHu/q2ngmUBISuGalcGb96+DyE8e/5SZCCHmJVBUsaVU/LIAETNb+6NKIsSB+jNdhno3eag95VB8tlfDsnF+VnyVSKdv1st9BxyvHfUqpCtTO5mD8RTw/EXhARICAEZJGVcOSUSSfcJc4OxI8p19X2QQeID3f9JfNCcr00G+t1KWR/I10xloRA3xHh8fXNb4TaRVHudlDydrvJEGjuiPZHBVj6q7/hJdrMyyH2KGcU8iDyHCUomJRB5ECGD3q5iTYJ6EtSMIYBEMnMARB5EyAAZDPefNKCGzRrmX4oGkYeAGSPfCWr9ZtDIzhnseIdnK38dnc6ToGYMASSSmQMg8iCSb4E21wfIoPiKgQT1JKgZQwCJZOYAiDyIkEHxpp9bRpCgngQ1YwggkcwcAJEHETJABpwzGC4Bs4Y5ZwAiDwEzhnMGvZngbrXg04onQc0YAkgkMwdA5EHEyqA3H5CgngQ1YwggkcwcAJEHETJABsPdJKGGzRpmmwhEHgJmDNtEvZmAbSIzO2lzHkRQ8lDiU4VJCRkgg+EuC2hzZgFLAJ3OBAUiDyK2iXrzAQnqSVAzhgASycwBEHkQlZLBZDLRiyEzgAAEIACBIROYTCalZND8TTMzEIAABCAwZAJFrk005DfMa4MABCAAgSYBZNBkwgwEIAABCPyHwKYXqoMiBCAAAQjsAQFksAcHkbcAAQhAYFMCyGBTgjweAhCAwB4QQAZ7cBB5CxCAAAQ2JYAMNiXI4yEAAQjsAQFksAcHkbcAAQhAYFMCyGBTgjweAhCAwB4Q+D/mZH1V4WFlrAAAAABJRU5ErkJggg==)"
      ],
      "metadata": {
        "id": "AYxDh8KyD5RU"
      }
    },
    {
      "cell_type": "markdown",
      "source": [
        "\n",
        "* Cada una de las 5 veces tenemos un conjunto de prueba del 20% (40 puntos de datos) y un conjunto de entrenamiento del 80%.\n",
        "\n",
        "* Construimos 5 modelos y calculamos 5 puntuaciones.\n",
        "\n",
        "\n",
        "* Digamos que estamos intentando calcular el accuracy de nuestros 5 modelos:\n",
        "\n",
        "```\n",
        "(0.83+0.79+0.78+0.80+0.75)/5 = 0.79\n",
        "```\n",
        "\n",
        "* Informamos el accuracy como la media de los 5 valores."
      ],
      "metadata": {
        "id": "BFu4SR9kvekJ"
      }
    },
    {
      "cell_type": "markdown",
      "source": [
        "## Este proceso para crear múltiples conjuntos de entrenamiento y prueba se denomina **k-fold cross validation.**\n",
        "\n",
        "* La **k** es la cantidad de fragmentos en los que dividimos nuestro conjunto de datos.\n",
        "\n",
        "* El número estándar es 5, como hicimos en nuestro ejemplo anterior.\n",
        "\n",
        "* El objetivo es obtener medidas precisas para nuestras métricas (accuracy, precision, recall).\n",
        "\n",
        "* Creamos modelos adicionales para tener confianza en las cifras que calculamos e informamos."
      ],
      "metadata": {
        "id": "Rg13-NvPxEge"
      }
    },
    {
      "cell_type": "markdown",
      "source": [
        "## Construyendo el modelo:\n",
        "* Podemos usar los conjuntos de entrenamiento y prueba para construir un modelo y hacer una predicción como antes.\n",
        "\n",
        "* Utilizamos todo el conjunto de datos y como queremos recorrer todos los k-folds y así obtener sus respectivos valores, ponemos el código dentro de un bucle for.\n",
        "\n",
        "\n",
        "\n"
      ],
      "metadata": {
        "id": "0SnbNoBTz5Al"
      }
    },
    {
      "cell_type": "markdown",
      "source": [
        "Creamos una instancia de un objeto de clase KFold.\n",
        "\n",
        "```\n",
        "kf = KFold(n_splits=3, shuffle=True)\n",
        "```\n",
        "\n",
        "Se necesitan dos parámetros:\n",
        "\n",
        "* **n_splits** (esto es **k**, el número de fragmentos a crear) y\n",
        "* **shuffle** (si aleatorizar o no el orden de los datos).\n",
        "\n",
        "En general, es una buena práctica mezclar los datos, ya que a menudo se obtiene un conjunto de datos ordenado."
      ],
      "metadata": {
        "id": "AuqtIuBA2Oap"
      }
    },
    {
      "cell_type": "code",
      "source": [
        "from sklearn.model_selection import KFold\n",
        "from sklearn.linear_model import LogisticRegression\n",
        "import pandas as pd\n",
        "\n",
        "df = pd.read_csv('/content/gdrive/MyDrive/Colab Notebooks/Data Science/data/titanic_train_del_NAN.csv')\n",
        "df['male'] = df['Sex'] == 'male'\n",
        "X = df[['Pclass', 'male', 'Age', 'SibSp', 'Parch', 'Fare']].values\n",
        "y = df['Survived'].values\n",
        "\n",
        "scores = []\n",
        "kf = KFold(n_splits=5, shuffle=True)\n",
        "for train_index, test_index in kf.split(X):\n",
        "    X_train, X_test = X[train_index], X[test_index]\n",
        "    y_train, y_test = y[train_index], y[test_index]\n",
        "    model = LogisticRegression()\n",
        "    model.fit(X_train, y_train)\n",
        "    scores.append(model.score(X_test, y_test))\n",
        "print(scores)"
      ],
      "metadata": {
        "colab": {
          "base_uri": "https://localhost:8080/"
        },
        "id": "3FbM0q68P1sp",
        "outputId": "1361d8b5-78e2-4eaf-f4a3-90de4e4d9a3d"
      },
      "execution_count": null,
      "outputs": [
        {
          "output_type": "stream",
          "name": "stdout",
          "text": [
            "[0.8321678321678322, 0.7832167832167832, 0.7902097902097902, 0.7972027972027972, 0.8028169014084507]\n"
          ]
        }
      ]
    },
    {
      "cell_type": "markdown",
      "source": [
        "* Como tenemos 5 k-folds, obtenemos 5 valores de precisión.\n",
        "\n",
        "* Para obtener un valor final único, debemos tomar la media de esos valores:"
      ],
      "metadata": {
        "id": "_hKMdh4I1XIi"
      }
    },
    {
      "cell_type": "code",
      "source": [
        "import numpy as np\n",
        "print(np.mean(scores))"
      ],
      "metadata": {
        "colab": {
          "base_uri": "https://localhost:8080/"
        },
        "id": "J-2seiraSgOM",
        "outputId": "0d4b3eb1-4b78-416c-faf3-bf20bb49b4e6"
      },
      "execution_count": null,
      "outputs": [
        {
          "output_type": "stream",
          "name": "stdout",
          "text": [
            "0.8011228208411307\n"
          ]
        }
      ]
    },
    {
      "cell_type": "markdown",
      "source": [
        "\n",
        "### Comparando diferentes modelos:"
      ],
      "metadata": {
        "id": "QyQ2ZD2D4Ssj"
      }
    },
    {
      "cell_type": "markdown",
      "source": [
        "\n",
        "* Construimos dos modelos en scikit-learn.\n",
        "* Luego usamos una validación cruzada de k veces para calcular la exactitud, la precisión, la recuperación y la puntuación F1 de los dos modelos para poder compararlos.\n",
        "* Construimos el objeto KFold, usamos 5 divisiones como estándar.\n",
        "* Creamos tres matrices de características diferentes **X1, X2 y X3**.\n",
        "* Todas tendrán el mismo objetivo **y**.\n",
        "* Como lo haremos varias veces, escribimos una función (**score_model**) para calificar el modelo.\n",
        "* Esta función utiliza el objeto KFold para calcular las métricas para un modelo de regresión logística con la matriz de características X y la matriz objetivo y dadas.\n",
        "* Luego llamamos a nuestra función tres veces para cada una de nuestras tres matrices de características y vemos los resultados.\n"
      ],
      "metadata": {
        "id": "6Cciu9unCiQt"
      }
    },
    {
      "cell_type": "code",
      "source": [
        "from sklearn.model_selection import KFold\n",
        "from sklearn.linear_model import LogisticRegression\n",
        "from sklearn.metrics import accuracy_score, precision_score, recall_score, f1_score\n",
        "import pandas as pd\n",
        "import numpy as np\n",
        "\n",
        "df = pd.read_csv('/content/gdrive/MyDrive/Colab Notebooks/Data Science/data/titanic_train_del_NAN.csv')\n",
        "df['male'] = df['Sex'] == 'male'\n",
        "\n",
        "#Construimos el objeto KFold\n",
        "kf = KFold(n_splits=5, shuffle=True)\n",
        "\n",
        "#Creamos tres matrices\n",
        "X1 = df[['Pclass', 'male', 'Age', 'SibSp', 'Parch', 'Fare']].values\n",
        "X2 = df[['Pclass', 'male', 'Age']].values\n",
        "X3 = df[['Fare', 'Age']].values\n",
        "y = df['Survived'].values\n",
        "\n",
        "#Función (score_model) para calificar el modelo.\n",
        "def score_model(X, y, kf):\n",
        "    accuracy_scores = []\n",
        "    precision_scores = []\n",
        "    recall_scores = []\n",
        "    f1_scores = []\n",
        "    for train_index, test_index in kf.split(X):\n",
        "        X_train, X_test = X[train_index], X[test_index]\n",
        "        y_train, y_test = y[train_index], y[test_index]\n",
        "        model = LogisticRegression()\n",
        "        model.fit(X_train, y_train)\n",
        "        y_pred = model.predict(X_test)\n",
        "        accuracy_scores.append(accuracy_score(y_test, y_pred))\n",
        "        precision_scores.append(precision_score(y_test, y_pred))\n",
        "        recall_scores.append(recall_score(y_test, y_pred))\n",
        "        f1_scores.append(f1_score(y_test, y_pred))\n",
        "    print(\"accuracy:\", np.mean(accuracy_scores))\n",
        "    print(\"precision:\", np.mean(precision_scores))\n",
        "    print(\"recall:\", np.mean(recall_scores))\n",
        "    print(\"f1 score:\", np.mean(f1_scores))\n",
        "\n",
        "# Llamamos a nuestra función score_model tres veces para cada una de nuestras tres matrices\n",
        "print(\"Logistic Regression with all features\")\n",
        "score_model(X1, y, kf)\n",
        "print()\n",
        "print(\"Logistic Regression with Pclass, Sex & Age features\")\n",
        "score_model(X2, y, kf)\n",
        "print()\n",
        "print(\"Logistic Regression with Fare & Age features\")\n",
        "score_model(X3, y, kf)"
      ],
      "metadata": {
        "colab": {
          "base_uri": "https://localhost:8080/"
        },
        "id": "BhQXbJYqCNRO",
        "outputId": "3e94cc2f-dc0c-4897-e49f-e9c710df8940"
      },
      "execution_count": null,
      "outputs": [
        {
          "output_type": "stream",
          "name": "stdout",
          "text": [
            "Logistic Regression with all features\n",
            "accuracy: 0.788555106864966\n",
            "precision: 0.7515939421202578\n",
            "recall: 0.7152116402116403\n",
            "f1 score: 0.7314588761857878\n",
            "\n",
            "Logistic Regression with Pclass, Sex & Age features\n",
            "accuracy: 0.7982763715158081\n",
            "precision: 0.762672910936484\n",
            "recall: 0.7339753675413219\n",
            "f1 score: 0.7447557343498261\n",
            "\n",
            "Logistic Regression with Fare & Age features\n",
            "accuracy: 0.6526839357825274\n",
            "precision: 0.667675293826189\n",
            "recall: 0.29565247529743893\n",
            "f1 score: 0.4033810348723357\n"
          ]
        }
      ]
    },
    {
      "cell_type": "markdown",
      "source": [
        "* El tercer modelo no tiene acceso al sexo del pasajero.\n",
        "* Nuestra expectativa es que las mujeres tienen más probabilidades de sobrevivir, por lo que tener esa variable constituye un predictor muy valioso."
      ],
      "metadata": {
        "id": "LQO935g0GBgz"
      }
    }
  ]
}